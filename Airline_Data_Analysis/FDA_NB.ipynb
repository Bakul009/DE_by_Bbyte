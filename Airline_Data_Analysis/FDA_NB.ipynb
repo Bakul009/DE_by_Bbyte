{
 "cells": [
  {
   "cell_type": "code",
   "execution_count": 0,
   "metadata": {
    "application/vnd.databricks.v1+cell": {
     "cellMetadata": {
      "byteLimit": 2048000,
      "rowLimit": 10000
     },
     "inputWidgets": {},
     "nuid": "b23107a6-50df-4163-ac92-294450b418dd",
     "showTitle": false,
     "tableResultSettingsMap": {},
     "title": ""
    }
   },
   "outputs": [],
   "source": [
    "# import the required Python libraries\n",
    "\n",
    "import pandas as pd\n",
    "import numpy as np\n",
    "import matplotlib.pyplot as plt\n",
    "%matplotlib inline\n",
    "import seaborn as sns"
   ]
  },
  {
   "cell_type": "code",
   "execution_count": 0,
   "metadata": {
    "application/vnd.databricks.v1+cell": {
     "cellMetadata": {
      "byteLimit": 2048000,
      "rowLimit": 10000
     },
     "inputWidgets": {},
     "nuid": "fb9ca21c-5609-4022-8b21-e1d938fcd709",
     "showTitle": false,
     "tableResultSettingsMap": {},
     "title": ""
    }
   },
   "outputs": [],
   "source": [
    "# import the Flights dataset\n",
    "\n",
    "data = pd.read_csv(\"/Volumes/de_by_bbytes/flight_data_analysis/fda_raw_dataset/airlines_flights_data.csv\")\n",
    "\n",
    "data"
   ]
  },
  {
   "cell_type": "code",
   "execution_count": 0,
   "metadata": {
    "application/vnd.databricks.v1+cell": {
     "cellMetadata": {
      "byteLimit": 2048000,
      "rowLimit": 10000
     },
     "inputWidgets": {},
     "nuid": "d48b62be-e5bd-4f8b-87a9-a86c9ade0217",
     "showTitle": false,
     "tableResultSettingsMap": {},
     "title": ""
    }
   },
   "outputs": [],
   "source": [
    "### Cleaning the data\n",
    "\n",
    "# Remove the 'index' column\n",
    "\n",
    "data.drop( columns = 'index', inplace = True)\n",
    "\n",
    "data\n",
    "\n",
    "# Get some Info about the dataset\n",
    "\n",
    "data.info()\n",
    "\n",
    "# Get Statistical summary about the dataset\n",
    "\n",
    "data.describe()\n",
    "\n",
    "data[ data['duration'] == 49.830000 ]\n",
    "\n",
    "data[ data['duration'] == 0.830000 ]\n",
    "\n",
    "data [ data['price'] == 123071.000000 ]\n",
    "\n",
    "data [ data['price'] == 1105.000000 ]\n",
    "\n",
    "data.isnull().sum()            # check for the missing values in any column"
   ]
  },
  {
   "cell_type": "code",
   "execution_count": 0,
   "metadata": {
    "application/vnd.databricks.v1+cell": {
     "cellMetadata": {
      "byteLimit": 2048000,
      "rowLimit": 10000
     },
     "inputWidgets": {},
     "nuid": "87655ce1-bc84-45e6-9ffd-6d89b925bcd5",
     "showTitle": false,
     "tableResultSettingsMap": {},
     "title": ""
    }
   },
   "outputs": [],
   "source": [
    "## Q.1. `What are the airlines in the dataset, accompanied by their frequencies?`\n",
    "\n",
    "data.head()\n",
    "\n",
    "# Checking how many Airlines are in the dataset\n",
    "\n",
    "data['airline'].nunique()\n",
    "\n",
    "# Showing the names of the Airlines in the dataset\n",
    "\n",
    "data['airline'].unique()\n",
    "\n",
    "# Showing all the Airlines with their frequencies\n",
    "\n",
    "data['airline'].value_counts()\n",
    "\n",
    "# Showing all the Airlines with their Number of Flights in Horizontal Bar Graph\n",
    "\n",
    "data['airline'].value_counts(ascending=True).plot.barh( color = ['lightgreen', 'lightblue'])\n",
    "\n",
    "plt.title(\"Airlines with frequencies\")\n",
    "\n",
    "plt.xlabel(\" Number of flights\")\n",
    "\n",
    "plt.ylabel(\" Airlines\")\n",
    "\n",
    "plt.show()"
   ]
  },
  {
   "cell_type": "code",
   "execution_count": 0,
   "metadata": {
    "application/vnd.databricks.v1+cell": {
     "cellMetadata": {
      "byteLimit": 2048000,
      "rowLimit": 10000
     },
     "inputWidgets": {},
     "nuid": "20081c0a-0ec5-403a-80b4-020d85f9a1cc",
     "showTitle": false,
     "tableResultSettingsMap": {},
     "title": ""
    }
   },
   "outputs": [],
   "source": [
    "## Q.2. `Show Bar Graphs representing the Departure Time & Arrival Time`\n",
    "\n",
    "data.head()\n",
    "\n",
    "# Showing the Departure Time for the flights\n",
    "\n",
    "data['departure_time'].value_counts()\n",
    "\n",
    "# Showing the Arrival Time for the flights\n",
    "\n",
    "data['arrival_time'].value_counts()\n",
    "\n",
    "# Showing the Departure Time & Arrival Time for the flights with their counts\n",
    "\n",
    "plt.figure(figsize = (16,4))\n",
    "\n",
    "plt.subplot(1,2,1)\n",
    "\n",
    "plt.bar( data['departure_time'].value_counts().index , data['departure_time'].value_counts().values, color = ['r', 'b'] )\n",
    "plt.title(\"Departure Time\")\n",
    "plt.xlabel(\"D. Time\")\n",
    "plt.ylabel(\"D. Freq\")\n",
    "\n",
    "plt.subplot(1,2,2)\n",
    "\n",
    "plt.bar( data['arrival_time'].value_counts().index, data['arrival_time'].value_counts().values, color = ['g', 'y'])\n",
    "plt.title(\"Arrival Time\")\n",
    "plt.xlabel(\"A. Time\")\n",
    "plt.ylabel(\"A. Freq\")\n",
    "\n",
    "plt.show()"
   ]
  },
  {
   "cell_type": "code",
   "execution_count": 0,
   "metadata": {
    "application/vnd.databricks.v1+cell": {
     "cellMetadata": {
      "byteLimit": 2048000,
      "rowLimit": 10000
     },
     "inputWidgets": {},
     "nuid": "d8ba6f31-2f98-4dd1-be51-55eec6590ca8",
     "showTitle": false,
     "tableResultSettingsMap": {},
     "title": ""
    }
   },
   "outputs": [],
   "source": [
    "## Q.3. `Show Bar Graphs representing the Source City & Destination City`\n",
    "\n",
    "data.head()\n",
    "\n",
    "# Showing the Source City of the flights\n",
    "\n",
    "data['source_city'].value_counts()\n",
    "\n",
    "# Showing the Destination City of the flights\n",
    "\n",
    "data['destination_city'].value_counts()\n",
    "\n",
    "# Showing the Source City & Destination City for the flights with their counts\n",
    "\n",
    "plt.figure( figsize= (16,4))\n",
    "\n",
    "plt.subplot(1,2,1)\n",
    "\n",
    "plt.barh( data['source_city'].value_counts().index , data['source_city'].value_counts().values, color = ['m', 'g'])\n",
    "plt.title(\"Source Cities with No. of flights\")\n",
    "plt.ylabel(\"Cities\")\n",
    "plt.xlabel(\"No. of flights\")\n",
    "\n",
    "plt.subplot(1,2,2)\n",
    "\n",
    "plt.barh( data['destination_city'].value_counts().index , data['destination_city'].value_counts().values, color = ['y', 'r'])\n",
    "plt.title(\"Destination Cities with No. of flights\")\n",
    "plt.ylabel(\"Cities\")\n",
    "plt.xlabel(\"No. of flights\")\n",
    "\n",
    "plt.show()\n"
   ]
  },
  {
   "cell_type": "code",
   "execution_count": 0,
   "metadata": {
    "application/vnd.databricks.v1+cell": {
     "cellMetadata": {
      "byteLimit": 2048000,
      "rowLimit": 10000
     },
     "inputWidgets": {},
     "nuid": "ed587168-6ac6-4fa3-8e07-d4f4aa5c6286",
     "showTitle": false,
     "tableResultSettingsMap": {},
     "title": ""
    }
   },
   "outputs": [],
   "source": [
    "\n",
    "## Q.4. `Does price varies with airlines ?`\n",
    "\n",
    "data.head()\n",
    "\n",
    "# Grouping the airlines and checking their mean price\n",
    "\n",
    "data.groupby('airline')['price'].mean()\n",
    "\n",
    "# Drawing a Categorical Plot showing the Mean Ticket Price for each Airline\n",
    "\n",
    "sns.catplot( x = 'airline', y = 'price', kind = 'bar', palette = 'rocket', data = data, hue = 'class')\n",
    "\n",
    "plt.show()"
   ]
  },
  {
   "cell_type": "code",
   "execution_count": 0,
   "metadata": {
    "application/vnd.databricks.v1+cell": {
     "cellMetadata": {
      "byteLimit": 2048000,
      "rowLimit": 10000
     },
     "inputWidgets": {},
     "nuid": "5b8bbd54-aad8-49a3-8d2c-d912884a5ba9",
     "showTitle": false,
     "tableResultSettingsMap": {},
     "title": ""
    }
   },
   "outputs": [],
   "source": [
    "## Q.5. `Does ticket price change based on the departure time and arrival time?`\n",
    "\n",
    "data.head()\n",
    "\n",
    "# Checking the Mean Ticket Price based on the Departure Times\n",
    "\n",
    "data.groupby('departure_time')['price'].mean()\n",
    "\n",
    "# Checking the Mean Ticket Price based on the Arrival Times\n",
    "\n",
    "data.groupby('arrival_time')['price'].mean()\n",
    "\n",
    "sns.catplot( x = 'departure_time', y = 'price', kind = 'bar', data = data )\n",
    "\n",
    "plt.show()\n",
    "\n",
    "sns.catplot( x = 'arrival_time', y = 'price', kind = 'bar', data = data )\n",
    "\n",
    "plt.show()\n",
    "\n",
    "sns.relplot( x = 'arrival_time', y = 'price', data = data, col = 'departure_time', kind = 'line')\n",
    "\n",
    "plt.show()"
   ]
  },
  {
   "cell_type": "code",
   "execution_count": 0,
   "metadata": {
    "application/vnd.databricks.v1+cell": {
     "cellMetadata": {
      "byteLimit": 2048000,
      "rowLimit": 10000
     },
     "inputWidgets": {},
     "nuid": "8505b146-ad9a-482c-bf06-bc70b12a8c73",
     "showTitle": false,
     "tableResultSettingsMap": {},
     "title": ""
    }
   },
   "outputs": [],
   "source": [
    "## Q.6. `How the price changes with change in Source and Destination?`\n",
    "\n",
    "data.head()\n",
    "\n",
    "# Checking the Mean Ticket Price for each Source City\n",
    "\n",
    "data.groupby('source_city')['price'].mean()\n",
    "\n",
    "# Checking the Mean Ticket Price for each Destination City\n",
    "\n",
    "data.groupby('destination_city')['price'].mean()\n",
    "\n",
    "sns.relplot( x = 'destination_city', y = 'price', data = data, col = \"source_city\", kind = 'line')\n",
    "\n",
    "plt.show()"
   ]
  },
  {
   "cell_type": "code",
   "execution_count": 0,
   "metadata": {
    "application/vnd.databricks.v1+cell": {
     "cellMetadata": {
      "byteLimit": 2048000,
      "rowLimit": 10000
     },
     "inputWidgets": {},
     "nuid": "f0cc41f5-2aef-4fc6-be76-59f4a2ff3afd",
     "showTitle": false,
     "tableResultSettingsMap": {},
     "title": ""
    }
   },
   "outputs": [],
   "source": [
    "\n",
    "### Q.7. `How is the price affected when tickets are bought in just 1 or 2 days before departure?`\n",
    "\n",
    "data.head()\n",
    "\n",
    "data['days_left'].nunique()\n",
    "\n",
    "data['days_left'].unique()\n",
    "\n",
    "# Checking the Mean Ticket Price for different days_left\n",
    "\n",
    "data.groupby('days_left')['price'].mean()\n",
    "\n",
    "sns.relplot( y='price', x = 'days_left', kind = 'line', data = data )\n",
    "\n",
    "plt.show()"
   ]
  },
  {
   "cell_type": "code",
   "execution_count": 0,
   "metadata": {
    "application/vnd.databricks.v1+cell": {
     "cellMetadata": {
      "byteLimit": 2048000,
      "rowLimit": 10000
     },
     "inputWidgets": {},
     "nuid": "602a891d-0bb4-400b-830e-7bdec1b6f2ab",
     "showTitle": false,
     "tableResultSettingsMap": {},
     "title": ""
    }
   },
   "outputs": [],
   "source": [
    "## Q.8. `How does the ticket price vary between Economy and Business class?`\n",
    "\n",
    "data.head()\n",
    "\n",
    "data['class'].unique()\n",
    "\n",
    "# Filtering out the records with Economy class\n",
    "\n",
    "x = data [ data['class'] == 'Economy' ]\n",
    "\n",
    "x\n",
    "\n",
    "# Checking Mean Price for Economy class tickets\n",
    "\n",
    "x.price.mean()\n",
    "\n",
    "# Filtering out the records with Business class\n",
    "\n",
    "y = data [ data['class'] == 'Business' ]\n",
    "\n",
    "y\n",
    "\n",
    "# Checking Mean Price for Business class tickets\n",
    "\n",
    "y.price.mean()"
   ]
  },
  {
   "cell_type": "code",
   "execution_count": 0,
   "metadata": {
    "application/vnd.databricks.v1+cell": {
     "cellMetadata": {
      "byteLimit": 2048000,
      "rowLimit": 10000
     },
     "inputWidgets": {},
     "nuid": "1c12a755-4257-4296-98aa-f0a7440fbbd7",
     "showTitle": false,
     "tableResultSettingsMap": {},
     "title": ""
    }
   },
   "outputs": [],
   "source": [
    "\n",
    "\n",
    "## Q.9. `What will be the Average Price of Vistara airline for a flight from Delhi to Hyderabad in Business Class ?`\n",
    "\n",
    "data.head(1)\n",
    "\n",
    "# applying filtering based on multiple conditions\n",
    "\n",
    "new_data = data [(data['airline'] == 'Vistara') & (data['source_city'] == 'Delhi') & (data['destination_city'] == 'Hyderabad')\n",
    "     & (data['class'] == 'Business')]\n",
    "\n",
    "new_data\n",
    "\n",
    "# Checking the mean price\n",
    "\n",
    "new_data['price'].mean()\n",
    "\n"
   ]
  }
 ],
 "metadata": {
  "application/vnd.databricks.v1+notebook": {
   "computePreferences": null,
   "dashboards": [],
   "environmentMetadata": {
    "base_environment": "",
    "environment_version": "3"
   },
   "inputWidgetPreferences": null,
   "language": "python",
   "notebookMetadata": {
    "pythonIndentUnit": 4
   },
   "notebookName": "FDA_NB",
   "widgets": {}
  },
  "language_info": {
   "name": "python"
  }
 },
 "nbformat": 4,
 "nbformat_minor": 0
}
