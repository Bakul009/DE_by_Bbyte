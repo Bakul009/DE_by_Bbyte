{
 "cells": [
  {
   "cell_type": "code",
   "execution_count": 0,
   "metadata": {
    "application/vnd.databricks.v1+cell": {
     "cellMetadata": {
      "byteLimit": 2048000,
      "rowLimit": 10000
     },
     "inputWidgets": {},
     "nuid": "5987c7a4-efe0-411c-a52a-21d8a0e43397",
     "showTitle": false,
     "tableResultSettingsMap": {},
     "title": ""
    }
   },
   "outputs": [],
   "source": [
    "from pyspark.sql.functions import col, to_date\n",
    "from delta.tables import DeltaTable\n",
    "\n",
    "# ---------- CONFIG ----------\n",
    "S3_PATH = \"s3a://my-api-data-lambda/*/*/*/*.json\"  # read all folders & files\n",
    "BRONZE_PATH = \"yt_trending_catalog.brz_sch_yt.youtube_trending_table_bronze\"\n",
    "\n",
    "# ---------- STEP 1: READ ALL JSON FILES ----------\n",
    "df_raw = spark.read.json(S3_PATH)\n"
   ]
  },
  {
   "cell_type": "code",
   "execution_count": 0,
   "metadata": {
    "application/vnd.databricks.v1+cell": {
     "cellMetadata": {
      "byteLimit": 2048000,
      "rowLimit": 10000
     },
     "inputWidgets": {},
     "nuid": "c87a086c-ba73-4b01-811c-6ccf446c2aba",
     "showTitle": false,
     "tableResultSettingsMap": {},
     "title": ""
    }
   },
   "outputs": [],
   "source": [
    "from pyspark.sql.functions import explode, col"
   ]
  },
  {
   "cell_type": "code",
   "execution_count": 0,
   "metadata": {
    "application/vnd.databricks.v1+cell": {
     "cellMetadata": {
      "byteLimit": 2048000,
      "rowLimit": 10000
     },
     "inputWidgets": {},
     "nuid": "b4f4ea06-16f0-484d-b873-5468c5806094",
     "showTitle": false,
     "tableResultSettingsMap": {},
     "title": ""
    }
   },
   "outputs": [],
   "source": [
    "df_exploded = df_raw.select(explode(col(\"items\")).alias(\"item\"))"
   ]
  },
  {
   "cell_type": "code",
   "execution_count": 0,
   "metadata": {
    "application/vnd.databricks.v1+cell": {
     "cellMetadata": {
      "byteLimit": 2048000,
      "rowLimit": 10000
     },
     "inputWidgets": {},
     "nuid": "1de35a24-2465-463c-a2d4-02635e4dd335",
     "showTitle": false,
     "tableResultSettingsMap": {},
     "title": ""
    }
   },
   "outputs": [],
   "source": [
    "\n",
    "# ---------- STEP 2: SELECT COLUMNS ----------\n",
    "df_bronze = df_exploded.select(\n",
    "   col(\"item.id\").alias(\"video_id\"),\n",
    "    col(\"item.etag\").alias(\"item_etag\"),\n",
    "    col(\"item.kind\").alias(\"video_kind\"),\n",
    "\n",
    "    # Snippet fields\n",
    "    col(\"item.snippet.categoryId\").alias(\"category_id\"),\n",
    "    col(\"item.snippet.channelId\").alias(\"channel_id\"),\n",
    "    col(\"item.snippet.channelTitle\").alias(\"channel_title\"),\n",
    "    col(\"item.snippet.defaultAudioLanguage\").alias(\"default_audio_language\"),\n",
    "    col(\"item.snippet.defaultLanguage\").alias(\"default_language\"),\n",
    "    col(\"item.snippet.description\").alias(\"description\"),\n",
    "    col(\"item.snippet.liveBroadcastContent\").alias(\"live_broadcast_content\"),\n",
    "    col(\"item.snippet.publishedAt\").alias(\"published_at\"),\n",
    "    col(\"item.snippet.title\").alias(\"title\"),\n",
    "\n",
    "    # Localized fields\n",
    "    col(\"item.snippet.localized.title\").alias(\"localized_title\"),\n",
    "    col(\"item.snippet.localized.description\").alias(\"localized_description\"),\n",
    "\n",
    "    # Tags (array)\n",
    "    col(\"item.snippet.tags\").alias(\"tags\"),\n",
    "\n",
    "    # Thumbnails\n",
    "    col(\"item.snippet.thumbnails.default.url\").alias(\"thumbnail_default_url\"),\n",
    "    col(\"item.snippet.thumbnails.default.height\").alias(\"thumbnail_default_height\"),\n",
    "    col(\"item.snippet.thumbnails.default.width\").alias(\"thumbnail_default_width\"),\n",
    "\n",
    "    col(\"item.snippet.thumbnails.medium.url\").alias(\"thumbnail_medium_url\"),\n",
    "    col(\"item.snippet.thumbnails.medium.height\").alias(\"thumbnail_medium_height\"),\n",
    "    col(\"item.snippet.thumbnails.medium.width\").alias(\"thumbnail_medium_width\"),\n",
    "\n",
    "    col(\"item.snippet.thumbnails.high.url\").alias(\"thumbnail_high_url\"),\n",
    "    col(\"item.snippet.thumbnails.high.height\").alias(\"thumbnail_high_height\"),\n",
    "    col(\"item.snippet.thumbnails.high.width\").alias(\"thumbnail_high_width\"),\n",
    "\n",
    "    col(\"item.snippet.thumbnails.standard.url\").alias(\"thumbnail_standard_url\"),\n",
    "    col(\"item.snippet.thumbnails.standard.height\").alias(\"thumbnail_standard_height\"),\n",
    "    col(\"item.snippet.thumbnails.standard.width\").alias(\"thumbnail_standard_width\"),\n",
    "\n",
    "    col(\"item.snippet.thumbnails.maxres.url\").alias(\"thumbnail_maxres_url\"),\n",
    "    col(\"item.snippet.thumbnails.maxres.height\").alias(\"thumbnail_maxres_height\"),\n",
    "    col(\"item.snippet.thumbnails.maxres.width\").alias(\"thumbnail_maxres_width\"),\n",
    "\n",
    "    # Statistics\n",
    "    col(\"item.statistics.viewCount\").alias(\"views\"),\n",
    "    col(\"item.statistics.likeCount\").alias(\"likes\"),\n",
    "    col(\"item.statistics.commentCount\").alias(\"comments\"),\n",
    "    col(\"item.statistics.favoriteCount\").alias(\"favorite_count\")\n",
    ").dropDuplicates([\"video_id\"])  # avoid duplicates within same file\n"
   ]
  },
  {
   "cell_type": "code",
   "execution_count": 0,
   "metadata": {
    "application/vnd.databricks.v1+cell": {
     "cellMetadata": {
      "byteLimit": 2048000,
      "rowLimit": 10000
     },
     "inputWidgets": {},
     "nuid": "3f31259b-0690-4253-8e33-854a13382bb7",
     "showTitle": false,
     "tableResultSettingsMap": {},
     "title": ""
    }
   },
   "outputs": [],
   "source": [
    "from pyspark.sql.types import IntegerType\n",
    "df_bronze = df_bronze.withColumn(\"views\", col(\"views\").cast(IntegerType())) \\\n",
    "    .withColumn(\"likes\", col(\"likes\").cast(IntegerType())) \\\n",
    "    .withColumn(\"comments\", col(\"comments\").cast(IntegerType())) \\\n",
    "    .withColumn(\"favorite_count\", col(\"favorite_count\").cast(IntegerType()))"
   ]
  },
  {
   "cell_type": "code",
   "execution_count": 0,
   "metadata": {
    "application/vnd.databricks.v1+cell": {
     "cellMetadata": {
      "byteLimit": 2048000,
      "rowLimit": 10000
     },
     "inputWidgets": {},
     "nuid": "251e69a1-0d37-46e6-b479-d02865d2f84b",
     "showTitle": false,
     "tableResultSettingsMap": {},
     "title": ""
    }
   },
   "outputs": [],
   "source": [
    "df_bronze= df_bronze.orderBy(col(\"views\").desc())"
   ]
  },
  {
   "cell_type": "code",
   "execution_count": 0,
   "metadata": {
    "application/vnd.databricks.v1+cell": {
     "cellMetadata": {
      "byteLimit": 2048000,
      "rowLimit": 10000
     },
     "inputWidgets": {},
     "nuid": "05df3cc9-be4d-4911-beb8-55113d8fd929",
     "showTitle": false,
     "tableResultSettingsMap": {},
     "title": ""
    }
   },
   "outputs": [],
   "source": [
    "# ---------- STEP 3: MERGE INTO SILVER ----------\n",
    "if spark.catalog.tableExists(BRONZE_PATH):\n",
    "    delta_tbl = DeltaTable.forName(spark, BRONZE_PATH)\n",
    "    (\n",
    "        delta_tbl.alias(\"t\")\n",
    "        .merge(\n",
    "            df_bronze.alias(\"s\"),\n",
    "            \"t.video_id = s.video_id\"\n",
    "        )\n",
    "        .whenMatchedUpdateAll()\n",
    "        .whenNotMatchedInsertAll()\n",
    "        .execute()\n",
    "    )\n",
    "else:\n",
    "    df_bronze.write.format(\"delta\").mode(\"overwrite\").saveAsTable(BRONZE_PATH)"
   ]
  }
 ],
 "metadata": {
  "application/vnd.databricks.v1+notebook": {
   "computePreferences": null,
   "dashboards": [],
   "environmentMetadata": {
    "base_environment": "",
    "environment_version": "2"
   },
   "inputWidgetPreferences": null,
   "language": "python",
   "notebookMetadata": {
    "pythonIndentUnit": 4
   },
   "notebookName": "bnz_auto",
   "widgets": {}
  },
  "language_info": {
   "name": "python"
  }
 },
 "nbformat": 4,
 "nbformat_minor": 0
}