{
 "cells": [
  {
   "cell_type": "code",
   "execution_count": 0,
   "metadata": {
    "application/vnd.databricks.v1+cell": {
     "cellMetadata": {
      "byteLimit": 2048000,
      "rowLimit": 10000
     },
     "inputWidgets": {},
     "nuid": "97788905-715c-493f-88c9-3ca04d204b76",
     "showTitle": false,
     "tableResultSettingsMap": {},
     "title": ""
    }
   },
   "outputs": [],
   "source": [
    "# =========================\n",
    "# GOLD LAYER — FULL BUILD\n",
    "# =========================\n",
    "\n",
    "from pyspark.sql.functions import (\n",
    "    col, sum as _sum, avg, desc, to_date, row_number, expr, lit\n",
    ")\n",
    "from pyspark.sql.window import Window\n",
    "from pyspark.sql.types import StringType, IntegerType\n",
    "\n",
    "# ---------- CONFIG (edit if needed) ----------\n",
    "CATALOG = \"yt_trending_catalog\"\n",
    "SILVER_SCHEMA = \"slv_sch_yt\"\n",
    "GOLD_SCHEMA = \"gld_sch_yt\"\n",
    "\n",
    "SILVER_TABLE = f\"{CATALOG}.{SILVER_SCHEMA}.youtube_trending_table_silver\"\n",
    "\n",
    "GOLD_TRENDING_VIDEOS      = f\"{CATALOG}.{GOLD_SCHEMA}.gold_trending_videos\"\n",
    "GOLD_CHANNEL_STATS        = f\"{CATALOG}.{GOLD_SCHEMA}.gold_channel_stats\"\n",
    "GOLD_CATEGORY_STATS       = f\"{CATALOG}.{GOLD_SCHEMA}.gold_category_stats\"\n",
    "GOLD_TRENDS_DAILY         = f\"{CATALOG}.{GOLD_SCHEMA}.gold_trends_daily\"\n",
    "GOLD_TOP10_PER_CATEGORY   = f\"{CATALOG}.{GOLD_SCHEMA}.gold_top10_videos_per_category\"\n",
    "GOLD_ENGAGEMENT_LEADERS   = f\"{CATALOG}.{GOLD_SCHEMA}.gold_engagement_leaders\"\n",
    "DIM_CATEGORY              = f\"{CATALOG}.{GOLD_SCHEMA}.dim_category\"\n",
    "\n",
    "# Ensure target schema exists\n",
    "spark.sql(f\"CREATE SCHEMA IF NOT EXISTS {CATALOG}.{GOLD_SCHEMA}\")\n",
    "df_silver_raw = spark.table(SILVER_TABLE)\n"
   ]
  },
  {
   "cell_type": "code",
   "execution_count": 0,
   "metadata": {
    "application/vnd.databricks.v1+cell": {
     "cellMetadata": {
      "byteLimit": 2048000,
      "rowLimit": 10000
     },
     "inputWidgets": {},
     "nuid": "ec7f7f8d-8c94-41bf-8385-4083552e4e71",
     "showTitle": false,
     "tableResultSettingsMap": {},
     "title": ""
    }
   },
   "outputs": [],
   "source": [
    "df_gold = (\n",
    "    df_silver_raw\n",
    "    .select(\n",
    "        col(\"video_id\"),\n",
    "        col(\"title\"),\n",
    "        col(\"description\"),\n",
    "        col(\"channel_id\"),\n",
    "        col(\"channel_title\"),\n",
    "        col(\"category_id\"),\n",
    "        col(\"published_at\"),\n",
    "        col(\"views\"),\n",
    "        col(\"likes\"),\n",
    "        col(\"comments\"),\n",
    "        col(\"favorite_count\")\n",
    "    )\n",
    ")"
   ]
  },
  {
   "cell_type": "code",
   "execution_count": 0,
   "metadata": {
    "application/vnd.databricks.v1+cell": {
     "cellMetadata": {
      "byteLimit": 2048000,
      "rowLimit": 10000
     },
     "inputWidgets": {},
     "nuid": "894cec79-dfd7-4fe7-b2f9-2b04712616c0",
     "showTitle": false,
     "tableResultSettingsMap": {},
     "title": ""
    }
   },
   "outputs": [],
   "source": [
    "\n",
    "# ---------- 1) CATEGORY LOOKUP (ID -> Name) ----------\n",
    "category_pairs = [\n",
    "    (\"1\",  \"Film & Animation\"),\n",
    "    (\"2\",  \"Autos & Vehicles\"),\n",
    "    (\"10\", \"Music\"),\n",
    "    (\"15\", \"Pets & Animals\"),\n",
    "    (\"17\", \"Sports\"),\n",
    "    (\"18\", \"Short Movies\"),\n",
    "    (\"19\", \"Travel & Events\"),\n",
    "    (\"20\", \"Gaming\"),\n",
    "    (\"21\", \"Videoblogging\"),\n",
    "    (\"22\", \"People & Blogs\"),\n",
    "    (\"23\", \"Comedy\"),\n",
    "    (\"24\", \"Entertainment\"),\n",
    "    (\"25\", \"News & Politics\"),\n",
    "    (\"26\", \"Howto & Style\"),\n",
    "    (\"27\", \"Education\"),\n",
    "    (\"28\", \"Science & Technology\"),\n",
    "    (\"29\", \"Nonprofits & Activism\"),\n",
    "]\n",
    "dim_category_df = spark.createDataFrame(category_pairs, [\"category_id\", \"category_name\"])\n",
    "dim_category_df.write.mode(\"overwrite\").saveAsTable(DIM_CATEGORY)\n",
    "\n"
   ]
  },
  {
   "cell_type": "code",
   "execution_count": 0,
   "metadata": {
    "application/vnd.databricks.v1+cell": {
     "cellMetadata": {
      "byteLimit": 2048000,
      "rowLimit": 10000
     },
     "inputWidgets": {},
     "nuid": "08c45ee3-f69d-4663-82b6-34dd204e722c",
     "showTitle": false,
     "tableResultSettingsMap": {},
     "title": ""
    }
   },
   "outputs": [],
   "source": [
    "\n",
    "# Join category name into silver\n",
    "df_gold = (\n",
    "    df_gold\n",
    "    .withColumn(\"category_id\", col(\"category_id\").cast(StringType()))\n",
    "    .join(spark.table(DIM_CATEGORY), on=\"category_id\", how=\"left\")\n",
    "    .withColumn(\"category_name\", expr(\"coalesce(category_name, 'Unknown')\"))\n",
    ")\n"
   ]
  },
  {
   "cell_type": "code",
   "execution_count": 0,
   "metadata": {
    "application/vnd.databricks.v1+cell": {
     "cellMetadata": {
      "byteLimit": 2048000,
      "rowLimit": 10000
     },
     "inputWidgets": {},
     "nuid": "af9d55c2-ad6d-44bc-b54e-43f8715384af",
     "showTitle": false,
     "tableResultSettingsMap": {},
     "title": ""
    }
   },
   "outputs": [],
   "source": [
    "\n",
    "# ---------- 2) GOLD: TRENDING VIDEOS (snapshot ranked by views) ----------\n",
    "from pyspark.sql.functions import col, when, round\n",
    "\n",
    "# Add ratios safely (avoid divide by zero)\n",
    "df_gold_videos = (\n",
    "    df_gold\n",
    "    .select(\n",
    "        col(\"video_id\"),\n",
    "        col(\"title\"),\n",
    "        col(\"channel_id\"),\n",
    "        col(\"channel_title\"),\n",
    "        col(\"category_id\"),\n",
    "        col(\"category_name\"),\n",
    "        col(\"published_at\"),\n",
    "        col(\"views\"),\n",
    "        col(\"likes\"),\n",
    "        col(\"comments\"),\n",
    "        col(\"favorite_count\")\n",
    "    )\n",
    "    .withColumn(\"like_ratio\", round(when(col(\"views\") > 0, col(\"likes\") / col(\"views\")).otherwise(0), 4))\n",
    "    .withColumn(\"comment_ratio\", round(when(col(\"views\") > 0, col(\"comments\") / col(\"views\")).otherwise(0), 4))\n",
    "    .orderBy(col(\"views\").desc())\n",
    ")\n",
    "\n",
    "# Save Gold table\n",
    "df_gold_videos.write.mode(\"overwrite\").saveAsTable(GOLD_TRENDING_VIDEOS)\n"
   ]
  },
  {
   "cell_type": "code",
   "execution_count": 0,
   "metadata": {
    "application/vnd.databricks.v1+cell": {
     "cellMetadata": {
      "byteLimit": 2048000,
      "rowLimit": 10000
     },
     "inputWidgets": {},
     "nuid": "c3add439-d313-426c-a318-2864c8ce43ec",
     "showTitle": false,
     "tableResultSettingsMap": {},
     "title": ""
    }
   },
   "outputs": [],
   "source": [
    "\n",
    "# ---------- 3) GOLD: CHANNEL-LEVEL STATS ----------\n",
    "df_gold_channels = (\n",
    "    df_gold\n",
    "    .groupBy(\"channel_id\",\"channel_title\")\n",
    "    .agg(\n",
    "        _sum(\"views\").alias(\"total_views\"),\n",
    "        _sum(\"likes\").alias(\"total_likes\"),\n",
    "        _sum(\"comments\").alias(\"total_comments\")\n",
    "    ))\n",
    "df_gold_channels.write.mode(\"overwrite\").saveAsTable(GOLD_CHANNEL_STATS)"
   ]
  },
  {
   "cell_type": "code",
   "execution_count": 0,
   "metadata": {
    "application/vnd.databricks.v1+cell": {
     "cellMetadata": {
      "byteLimit": 2048000,
      "rowLimit": 10000
     },
     "inputWidgets": {},
     "nuid": "b6d23107-418e-45ef-8de4-e7b22d4a1020",
     "showTitle": false,
     "tableResultSettingsMap": {},
     "title": ""
    }
   },
   "outputs": [],
   "source": [
    "df_gold_channels = (\n",
    "    df_gold_channels\n",
    "    .withColumn(\"like_ratio\", round(when(col(\"total_views\") > 0, col(\"total_likes\") / col(\"total_views\")).otherwise(0), 4))\n",
    "    .withColumn(\"comment_ratio\", round(when(col(\"total_views\") > 0, col(\"total_comments\") / col(\"total_views\")).otherwise(0), 4))\n",
    "    .orderBy(desc(\"total_views\"))\n",
    ")\n",
    "df_gold_channels.write.mode(\"overwrite\").option(\"mergeSchema\", \"true\").saveAsTable(GOLD_CHANNEL_STATS)"
   ]
  },
  {
   "cell_type": "code",
   "execution_count": 0,
   "metadata": {
    "application/vnd.databricks.v1+cell": {
     "cellMetadata": {
      "byteLimit": 2048000,
      "rowLimit": 10000
     },
     "inputWidgets": {},
     "nuid": "87aeb24c-decd-40c4-bd7a-d3ad4ccd7e56",
     "showTitle": false,
     "tableResultSettingsMap": {},
     "title": ""
    }
   },
   "outputs": [],
   "source": [
    "# ---------- 4) GOLD: CATEGORY-LEVEL STATS ----------\n",
    "df_gold_category = (\n",
    "    df_gold\n",
    "    .groupBy(\"category_id\",\"category_name\")\n",
    "    .agg(\n",
    "        _sum(\"views\").alias(\"total_views\"),\n",
    "        _sum(\"likes\").alias(\"total_likes\"),\n",
    "        _sum(\"comments\").alias(\"total_comments\"),\n",
    "    )\n",
    "    .orderBy(desc(\"total_views\"))\n",
    ")\n",
    "df_gold_category.write.mode(\"overwrite\").saveAsTable(GOLD_CATEGORY_STATS)"
   ]
  },
  {
   "cell_type": "code",
   "execution_count": 0,
   "metadata": {
    "application/vnd.databricks.v1+cell": {
     "cellMetadata": {
      "byteLimit": 2048000,
      "rowLimit": 10000
     },
     "inputWidgets": {},
     "nuid": "a0689c75-307f-4725-aca6-a4bce898fa16",
     "showTitle": false,
     "tableResultSettingsMap": {},
     "title": ""
    }
   },
   "outputs": [],
   "source": [
    "df_gold_category = (\n",
    "    df_gold_category\n",
    "    .withColumn(\"like_ratio\", round(when(col(\"total_views\") > 0, col(\"total_likes\") / col(\"total_views\")).otherwise(0), 4))\n",
    "    .withColumn(\"comment_ratio\", round(when(col(\"total_views\") > 0, col(\"total_comments\") / col(\"total_views\")).otherwise(0), 4))\n",
    "    .orderBy(desc(\"total_views\"))\n",
    ")\n",
    "df_gold_category.write.mode(\"overwrite\").option(\"mergeSchema\", \"true\").saveAsTable(GOLD_CATEGORY_STATS)"
   ]
  },
  {
   "cell_type": "code",
   "execution_count": 0,
   "metadata": {
    "application/vnd.databricks.v1+cell": {
     "cellMetadata": {
      "byteLimit": 2048000,
      "rowLimit": 10000
     },
     "inputWidgets": {},
     "nuid": "bf1fc73c-3a7e-4085-a52f-2bfe18e73198",
     "showTitle": false,
     "tableResultSettingsMap": {},
     "title": ""
    }
   },
   "outputs": [],
   "source": [
    "# ---------- 5) GOLD: DAILY TRENDS (time series per video) ----------\n",
    "df_trends = (\n",
    "    df_gold\n",
    "    .withColumn(\"date\", to_date(col(\"published_at\")))\n",
    "    .groupBy(\"video_id\",\"title\",\"channel_id\",\"channel_title\",\"category_id\",\"category_name\",\"date\")\n",
    "    .agg(\n",
    "        _sum(col(\"views\").cast(\"long\")).alias(\"daily_views\"),\n",
    "        _sum(col(\"likes\").cast(\"long\")).alias(\"daily_likes\"),\n",
    "        _sum(col(\"comments\").cast(\"long\")).alias(\"daily_comments\")\n",
    "    )\n",
    ")\n",
    "df_trends.write.mode(\"overwrite\").saveAsTable(GOLD_TRENDS_DAILY)"
   ]
  },
  {
   "cell_type": "code",
   "execution_count": 0,
   "metadata": {
    "application/vnd.databricks.v1+cell": {
     "cellMetadata": {
      "byteLimit": 2048000,
      "rowLimit": 10000
     },
     "inputWidgets": {},
     "nuid": "6df7c259-43af-4865-922c-47c9c291093b",
     "showTitle": false,
     "tableResultSettingsMap": {},
     "title": ""
    }
   },
   "outputs": [],
   "source": [
    "# ---------- 6) GOLD: TOP 10 VIDEOS PER CATEGORY ----------\n",
    "w = Window.partitionBy(\"category_id\",\"category_name\").orderBy(desc(\"views\"))\n",
    "df_top10_per_cat = (\n",
    "    df_gold\n",
    "    .select(\n",
    "        \"category_id\",\"category_name\",\"video_id\",\"title\",\"channel_title\",\n",
    "        \"views\",\"likes\",\"comments\",\"published_at\"\n",
    "    )\n",
    "    .withColumn(\"rank_in_category\", row_number().over(w))\n",
    "    .filter(col(\"rank_in_category\") <= 10)\n",
    ")\n",
    "df_top10_per_cat.write.mode(\"overwrite\").saveAsTable(GOLD_TOP10_PER_CATEGORY)"
   ]
  },
  {
   "cell_type": "code",
   "execution_count": 0,
   "metadata": {
    "application/vnd.databricks.v1+cell": {
     "cellMetadata": {
      "byteLimit": 2048000,
      "rowLimit": 10000
     },
     "inputWidgets": {},
     "nuid": "435db8b5-7b43-438b-93d6-036a28a04bd1",
     "showTitle": false,
     "tableResultSettingsMap": {},
     "title": ""
    }
   },
   "outputs": [],
   "source": [
    "\n",
    "\n",
    "# ---------- 7) GOLD: ENGAGEMENT LEADERS (quality threshold) ----------\n",
    "# Keep channels with meaningful audience (sum of views >= 50k) and rank by (likes/views)\n",
    "df_engagement_leaders = (\n",
    "    df_gold\n",
    "    .groupBy(\"channel_id\",\"channel_title\")\n",
    "    .agg(\n",
    "        _sum(\"views\").alias(\"total_views\"),\n",
    "        _sum(\"likes\").alias(\"total_likes\"),\n",
    "        _sum(\"comments\").alias(\"total_comments\"),\n",
    "        # recompute ratio safely; avg(like_ratio) is also OK, but this weights by total views:\n",
    "        expr(\"try_divide(sum(likes), nullif(sum(views),0))\").alias(\"like_rate\"),\n",
    "        expr(\"try_divide(sum(comments), nullif(sum(views),0))\").alias(\"comment_rate\")\n",
    "    )\n",
    "    .filter(col(\"total_views\") >= lit(50000))   # threshold — tweak for your data volume\n",
    "    .orderBy(desc(\"like_rate\"), desc(\"total_views\"))\n",
    ")\n",
    "df_engagement_leaders.write.mode(\"overwrite\").saveAsTable(GOLD_ENGAGEMENT_LEADERS)\n"
   ]
  }
 ],
 "metadata": {
  "application/vnd.databricks.v1+notebook": {
   "computePreferences": null,
   "dashboards": [],
   "environmentMetadata": {
    "base_environment": "",
    "environment_version": "2"
   },
   "inputWidgetPreferences": null,
   "language": "python",
   "notebookMetadata": {
    "mostRecentlyExecutedCommandWithImplicitDF": {
     "commandId": 8661267506973304,
     "dataframes": [
      "_sqldf"
     ]
    },
    "pythonIndentUnit": 4
   },
   "notebookName": "gld_auto",
   "widgets": {}
  },
  "language_info": {
   "name": "python"
  }
 },
 "nbformat": 4,
 "nbformat_minor": 0
}