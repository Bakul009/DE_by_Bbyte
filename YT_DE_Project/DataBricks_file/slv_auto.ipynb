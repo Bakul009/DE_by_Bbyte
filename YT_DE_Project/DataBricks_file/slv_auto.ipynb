{
 "cells": [
  {
   "cell_type": "code",
   "execution_count": 0,
   "metadata": {
    "application/vnd.databricks.v1+cell": {
     "cellMetadata": {
      "byteLimit": 2048000,
      "rowLimit": 10000
     },
     "inputWidgets": {},
     "nuid": "9df49199-4819-4cc5-99e5-18a0a2d551c7",
     "showTitle": false,
     "tableResultSettingsMap": {},
     "title": ""
    }
   },
   "outputs": [],
   "source": [
    "from pyspark.sql.functions import col, expr\n",
    "from pyspark.sql.types import IntegerType\n",
    "\n",
    "# Paths or Table Names\n",
    "BRONZE_TABLE = \"yt_trending_catalog.brz_sch_yt.youtube_trending_table_bronze\"\n",
    "SILVER_TABLE = \"yt_trending_catalog.slv_sch_yt.youtube_trending_table_silver\"\n",
    "\n",
    "# Read Bronze table\n",
    "df_bronze_raw = spark.table(BRONZE_TABLE)\n"
   ]
  },
  {
   "cell_type": "code",
   "execution_count": 0,
   "metadata": {
    "application/vnd.databricks.v1+cell": {
     "cellMetadata": {
      "byteLimit": 2048000,
      "rowLimit": 10000
     },
     "inputWidgets": {},
     "nuid": "022b461a-e221-4592-b557-34c3b2d795b2",
     "showTitle": false,
     "tableResultSettingsMap": {},
     "title": ""
    }
   },
   "outputs": [],
   "source": [
    "\n",
    "# Select necessary columns and clean data\n",
    "df_silver = (\n",
    "    df_bronze_raw\n",
    "    .select(\n",
    "        col(\"video_id\"),\n",
    "        col(\"title\"),\n",
    "        col(\"description\"),\n",
    "        col(\"channel_id\"),\n",
    "        col(\"channel_title\"),\n",
    "        col(\"category_id\"),\n",
    "        col(\"published_at\"),\n",
    "        col(\"views\"),\n",
    "        col(\"likes\"),\n",
    "        col(\"comments\"),\n",
    "        col(\"favorite_count\")\n",
    "    )\n",
    ")"
   ]
  },
  {
   "cell_type": "code",
   "execution_count": 0,
   "metadata": {
    "application/vnd.databricks.v1+cell": {
     "cellMetadata": {
      "byteLimit": 2048000,
      "rowLimit": 10000
     },
     "inputWidgets": {},
     "nuid": "cf27ec74-beed-4d2d-846e-4f93b7d07bd2",
     "showTitle": false,
     "tableResultSettingsMap": {},
     "title": ""
    }
   },
   "outputs": [],
   "source": [
    "if spark.catalog.tableExists(SILVER_TABLE):\n",
    "    (\n",
    "        df_silver.write.format(\"delta\")\n",
    "        .mode(\"overwrite\")  # or \"append\" if you want incremental\n",
    "        .option(\"overwriteSchema\", \"true\")\n",
    "        .saveAsTable(SILVER_TABLE)\n",
    "    )\n",
    "else:\n",
    "    (\n",
    "        df_silver.write.format(\"delta\")\n",
    "        .mode(\"overwrite\")\n",
    "        .saveAsTable(SILVER_TABLE)\n",
    "    )"
   ]
  }
 ],
 "metadata": {
  "application/vnd.databricks.v1+notebook": {
   "computePreferences": null,
   "dashboards": [],
   "environmentMetadata": {
    "base_environment": "",
    "environment_version": "2"
   },
   "inputWidgetPreferences": null,
   "language": "python",
   "notebookMetadata": {
    "pythonIndentUnit": 4
   },
   "notebookName": "slv_auto",
   "widgets": {}
  },
  "language_info": {
   "name": "python"
  }
 },
 "nbformat": 4,
 "nbformat_minor": 0
}