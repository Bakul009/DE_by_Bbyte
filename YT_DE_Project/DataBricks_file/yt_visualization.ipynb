{
 "cells": [
  {
   "cell_type": "code",
   "execution_count": 0,
   "metadata": {
    "application/vnd.databricks.v1+cell": {
     "cellMetadata": {
      "byteLimit": 2048000,
      "implicitDf": true,
      "rowLimit": 10000
     },
     "inputWidgets": {},
     "nuid": "8418db21-bc61-4122-a8fa-a6152f500ae0",
     "showTitle": false,
     "tableResultSettingsMap": {},
     "title": ""
    }
   },
   "outputs": [
    {
     "output_type": "display_data",
     "data": {
      "text/html": [
       "<style scoped>\n",
       "  .table-result-container {\n",
       "    max-height: 300px;\n",
       "    overflow: auto;\n",
       "  }\n",
       "  table, th, td {\n",
       "    border: 1px solid black;\n",
       "    border-collapse: collapse;\n",
       "  }\n",
       "  th, td {\n",
       "    padding: 5px;\n",
       "  }\n",
       "  th {\n",
       "    text-align: left;\n",
       "  }\n",
       "</style><div class='table-result-container'><table class='table-result'><thead style='background-color: white'><tr><th>title</th><th>channel_title</th><th>views</th><th>likes</th><th>comments</th><th>category_name</th></tr></thead><tbody><tr><td>Param Sundari - Official Trailer | Sidharth M | Janhvi K | Dinesh V | Tushar J | In Cinemas 29th Aug</td><td>Maddock Films</td><td>40457209</td><td>470201</td><td>36070</td><td>Entertainment</td></tr><tr><td>Teaser | Akshay Kumar | Arshad Warsi | Subhash Kapoor | Jolly LLB 3 | In Cinemas 19th September</td><td>Star Studios</td><td>28826650</td><td>368652</td><td>10671</td><td>Entertainment</td></tr><tr><td>LISA - DREAM feat. Kentaro Sakaguchi (Official Short Film MV)</td><td>LLOUD Official</td><td>8873632</td><td>1076147</td><td>62465</td><td>Music</td></tr><tr><td>Thama Teaser Announcement | Ayushmann, Rashmika, Paresh, Nawazuddin| Dinesh | In Cinemas This Diwali</td><td>Maddock Films</td><td>3896950</td><td>58627</td><td>5204</td><td>Entertainment</td></tr><tr><td>Wednesday: Season 2 | Part 2 Official Trailer | Netflix</td><td>Netflix</td><td>3209534</td><td>96973</td><td>4114</td><td>Entertainment</td></tr><tr><td>LIGHTNING UPDATE TRAILER + Week 1 Showcase | Blox Fruits</td><td>Gamer Robot</td><td>2596063</td><td>146536</td><td>38484</td><td>Gaming</td></tr><tr><td>Mass Jathara - TEASER | Ravi Teja, Sreeleela | Bheems | S Naga Vamsi | Bhanu Bogavarapu</td><td>Sithara Entertainments</td><td>2563095</td><td>109253</td><td>3699</td><td>Entertainment</td></tr><tr><td>Kishkindhapuri - Teaser | Bellamkonda Sreenivas | Anupama | Koushik Pegallapati | Chaitan Bharadwaj</td><td>Junglee Music Telugu</td><td>2097514</td><td>61869</td><td>839</td><td>Music</td></tr><tr><td>ZOMBIE BORDER PATROL | QUARANTINE ZONE : THE LAST CHECK</td><td>Techno Gamerz</td><td>1973669</td><td>107092</td><td>9332</td><td>Gaming</td></tr><tr><td>2 Duni 4 (Official Video) | R Nait | Gurlez Akhtar | Latest Punjabi Song 2025</td><td>One Take Worldwide</td><td>1897822</td><td>24648</td><td>1140</td><td>News & Politics</td></tr></tbody></table></div>"
      ]
     },
     "metadata": {
      "application/vnd.databricks.v1+output": {
       "addedWidgets": {},
       "aggData": [],
       "aggError": "",
       "aggOverflow": false,
       "aggSchema": [],
       "aggSeriesLimitReached": false,
       "aggType": "",
       "arguments": {},
       "columnCustomDisplayInfos": {},
       "data": [
        [
         "Param Sundari - Official Trailer | Sidharth M | Janhvi K | Dinesh V | Tushar J | In Cinemas 29th Aug",
         "Maddock Films",
         40457209,
         470201,
         36070,
         "Entertainment"
        ],
        [
         "Teaser | Akshay Kumar | Arshad Warsi | Subhash Kapoor | Jolly LLB 3 | In Cinemas 19th September",
         "Star Studios",
         28826650,
         368652,
         10671,
         "Entertainment"
        ],
        [
         "LISA - DREAM feat. Kentaro Sakaguchi (Official Short Film MV)",
         "LLOUD Official",
         8873632,
         1076147,
         62465,
         "Music"
        ],
        [
         "Thama Teaser Announcement | Ayushmann, Rashmika, Paresh, Nawazuddin| Dinesh | In Cinemas This Diwali",
         "Maddock Films",
         3896950,
         58627,
         5204,
         "Entertainment"
        ],
        [
         "Wednesday: Season 2 | Part 2 Official Trailer | Netflix",
         "Netflix",
         3209534,
         96973,
         4114,
         "Entertainment"
        ],
        [
         "LIGHTNING UPDATE TRAILER + Week 1 Showcase | Blox Fruits",
         "Gamer Robot",
         2596063,
         146536,
         38484,
         "Gaming"
        ],
        [
         "Mass Jathara - TEASER | Ravi Teja, Sreeleela | Bheems | S Naga Vamsi | Bhanu Bogavarapu",
         "Sithara Entertainments",
         2563095,
         109253,
         3699,
         "Entertainment"
        ],
        [
         "Kishkindhapuri - Teaser | Bellamkonda Sreenivas | Anupama | Koushik Pegallapati | Chaitan Bharadwaj",
         "Junglee Music Telugu",
         2097514,
         61869,
         839,
         "Music"
        ],
        [
         "ZOMBIE BORDER PATROL | QUARANTINE ZONE : THE LAST CHECK",
         "Techno Gamerz",
         1973669,
         107092,
         9332,
         "Gaming"
        ],
        [
         "2 Duni 4 (Official Video) | R Nait | Gurlez Akhtar | Latest Punjabi Song 2025",
         "One Take Worldwide",
         1897822,
         24648,
         1140,
         "News & Politics"
        ]
       ],
       "datasetInfos": [
        {
         "name": "_sqldf",
         "schema": {
          "fields": [
           {
            "metadata": {},
            "name": "title",
            "nullable": true,
            "type": "string"
           },
           {
            "metadata": {},
            "name": "channel_title",
            "nullable": true,
            "type": "string"
           },
           {
            "metadata": {},
            "name": "views",
            "nullable": true,
            "type": "integer"
           },
           {
            "metadata": {},
            "name": "likes",
            "nullable": true,
            "type": "integer"
           },
           {
            "metadata": {},
            "name": "comments",
            "nullable": true,
            "type": "integer"
           },
           {
            "metadata": {},
            "name": "category_name",
            "nullable": true,
            "type": "string"
           }
          ],
          "type": "struct"
         },
         "tableIdentifier": null,
         "typeStr": "pyspark.sql.connect.dataframe.DataFrame"
        }
       ],
       "dbfsResultPath": null,
       "isJsonSchema": true,
       "metadata": {
        "createTempViewForImplicitDf": true,
        "dataframeName": "_sqldf",
        "executionCount": 3
       },
       "overflow": false,
       "plotOptions": {
        "customPlotOptions": {},
        "displayType": "table",
        "pivotAggregation": null,
        "pivotColumns": null,
        "xColumns": null,
        "yColumns": null
       },
       "removedWidgets": [],
       "schema": [
        {
         "metadata": "{}",
         "name": "title",
         "type": "\"string\""
        },
        {
         "metadata": "{}",
         "name": "channel_title",
         "type": "\"string\""
        },
        {
         "metadata": "{}",
         "name": "views",
         "type": "\"integer\""
        },
        {
         "metadata": "{}",
         "name": "likes",
         "type": "\"integer\""
        },
        {
         "metadata": "{}",
         "name": "comments",
         "type": "\"integer\""
        },
        {
         "metadata": "{}",
         "name": "category_name",
         "type": "\"string\""
        }
       ],
       "type": "table"
      }
     },
     "output_type": "display_data"
    },
    {
     "output_type": "display_data",
     "data": {
      "text/plain": [
       "Databricks visualization. Run in Databricks to view."
      ]
     },
     "metadata": {
      "application/vnd.databricks.v1.subcommand+json": {
       "baseErrorDetails": null,
       "bindings": {},
       "collapsed": false,
       "command": "%sql WITH q AS (SELECT title, channel_title, views, likes, comments, category_name\nFROM yt_trending_catalog.gld_sch_yt.gold_trending_videos\nORDER BY views DESC\nLIMIT 10) SELECT `channel_title`,SUM(`views`) `column_d0a3aef2134`,`category_name` FROM q GROUP BY `category_name`,`channel_title`",
       "commandTitle": "Visualization 1",
       "commandType": "auto",
       "commandVersion": 0,
       "commentThread": [],
       "commentsVisible": false,
       "contentSha256Hex": null,
       "customPlotOptions": {
        "redashChart": [
         {
          "key": "type",
          "value": "CHART"
         },
         {
          "key": "options",
          "value": {
           "alignYAxesAtZero": true,
           "coefficient": 1,
           "columnConfigurationMap": {
            "series": {
             "column": "category_name",
             "id": "column_d0a3aef2136"
            },
            "x": {
             "column": "channel_title",
             "id": "column_d0a3aef2132"
            },
            "y": [
             {
              "column": "views",
              "id": "column_d0a3aef2134",
              "transform": "SUM"
             }
            ]
           },
           "dateTimeFormat": "DD/MM/YYYY HH:mm",
           "direction": {
            "type": "counterclockwise"
           },
           "error_y": {
            "type": "data",
            "visible": true
           },
           "globalSeriesType": "column",
           "isAggregationOn": true,
           "legend": {
            "traceorder": "normal"
           },
           "missingValuesAsZero": true,
           "numberFormat": "0,0.[00000]",
           "percentFormat": "0[.]00%",
           "series": {
            "error_y": {
             "type": "data",
             "visible": true
            },
            "stacking": null
           },
           "seriesOptions": {
            "column_d0a3aef2134": {
             "type": "column",
             "yAxis": 0
            }
           },
           "showDataLabels": false,
           "sizemode": "diameter",
           "sortX": true,
           "sortY": true,
           "swappedAxes": false,
           "textFormat": "",
           "useAggregationsUi": true,
           "valuesOptions": {},
           "version": 2,
           "xAxis": {
            "labels": {
             "enabled": true
            },
            "type": "-"
           },
           "yAxis": [
            {
             "type": "-"
            },
            {
             "opposite": true,
             "type": "-"
            }
           ]
          }
         }
        ]
       },
       "datasetPreviewNameToCmdIdMap": {},
       "diffDeletes": [],
       "diffInserts": [],
       "displayType": "redashChart",
       "error": null,
       "errorDetails": null,
       "errorSummary": null,
       "errorTraceType": null,
       "finishTime": 0,
       "globalVars": {},
       "guid": "",
       "height": "auto",
       "hideCommandCode": false,
       "hideCommandResult": false,
       "iPythonMetadata": null,
       "inputWidgets": {},
       "isLockedInExamMode": false,
       "latestUser": "a user",
       "latestUserId": null,
       "listResultMetadata": null,
       "metadata": {},
       "nuid": "4c1ebf00-aad8-4e4c-83fd-60f782f39d24",
       "origId": 0,
       "parentHierarchy": [],
       "pivotAggregation": null,
       "pivotColumns": null,
       "position": 2.0,
       "resultDbfsErrorMessage": null,
       "resultDbfsStatus": "INLINED_IN_TREE",
       "results": null,
       "showCommandTitle": false,
       "startTime": 0,
       "state": "input",
       "streamStates": {},
       "subcommandOptions": {
        "queryPlan": {
         "groups": [
          {
           "column": "channel_title",
           "type": "column"
          },
          {
           "column": "category_name",
           "type": "column"
          }
         ],
         "selects": [
          {
           "column": "channel_title",
           "type": "column"
          },
          {
           "alias": "column_d0a3aef2134",
           "args": [
            {
             "column": "views",
             "type": "column"
            }
           ],
           "function": "SUM",
           "type": "function"
          },
          {
           "column": "category_name",
           "type": "column"
          }
         ]
        }
       },
       "submitTime": 0,
       "subtype": "tableResultSubCmd.visualization",
       "tableResultIndex": 0,
       "tableResultSettingsMap": {},
       "useConsistentColors": false,
       "version": "CommandV1",
       "width": "auto",
       "workflows": [],
       "xColumns": null,
       "yColumns": null
      }
     },
     "output_type": "display_data"
    }
   ],
   "source": [
    "%sql\n",
    "SELECT title, channel_title, views, likes, comments, category_name\n",
    "FROM yt_trending_catalog.gld_sch_yt.gold_trending_videos\n",
    "ORDER BY views DESC\n",
    "LIMIT 10;\n"
   ]
  },
  {
   "cell_type": "code",
   "execution_count": 0,
   "metadata": {
    "application/vnd.databricks.v1+cell": {
     "cellMetadata": {
      "byteLimit": 2048000,
      "implicitDf": true,
      "rowLimit": 10000
     },
     "inputWidgets": {},
     "nuid": "2d2633ac-983a-4708-a95a-153e7aa80021",
     "showTitle": false,
     "tableResultSettingsMap": {},
     "title": ""
    }
   },
   "outputs": [
    {
     "output_type": "display_data",
     "data": {
      "text/html": [
       "<style scoped>\n",
       "  .table-result-container {\n",
       "    max-height: 300px;\n",
       "    overflow: auto;\n",
       "  }\n",
       "  table, th, td {\n",
       "    border: 1px solid black;\n",
       "    border-collapse: collapse;\n",
       "  }\n",
       "  th, td {\n",
       "    padding: 5px;\n",
       "  }\n",
       "  th {\n",
       "    text-align: left;\n",
       "  }\n",
       "</style><div class='table-result-container'><table class='table-result'><thead style='background-color: white'><tr><th>channel_title</th><th>total_views</th><th>total_likes</th><th>total_comments</th><th>like_ratio</th><th>comment_ratio</th></tr></thead><tbody><tr><td>Maddock Films</td><td>44354159</td><td>528828</td><td>41274</td><td>0.0119</td><td>9.0E-4</td></tr><tr><td>Star Studios</td><td>28826650</td><td>368652</td><td>10671</td><td>0.0128</td><td>4.0E-4</td></tr><tr><td>LLOUD Official</td><td>8873632</td><td>1076147</td><td>62465</td><td>0.1213</td><td>0.007</td></tr><tr><td>Netflix</td><td>3209534</td><td>96973</td><td>4114</td><td>0.0302</td><td>0.0013</td></tr><tr><td>BATTLEGROUNDS MOBILE INDIA</td><td>2703403</td><td>87424</td><td>224</td><td>0.0323</td><td>1.0E-4</td></tr><tr><td>Gamer Robot</td><td>2596063</td><td>146536</td><td>38484</td><td>0.0564</td><td>0.0148</td></tr><tr><td>Sithara Entertainments</td><td>2563095</td><td>109253</td><td>3699</td><td>0.0426</td><td>0.0014</td></tr><tr><td>Junglee Music Telugu</td><td>2097514</td><td>61869</td><td>839</td><td>0.0295</td><td>4.0E-4</td></tr><tr><td>Techno Gamerz</td><td>1973669</td><td>107092</td><td>9332</td><td>0.0543</td><td>0.0047</td></tr><tr><td>One Take Worldwide</td><td>1897822</td><td>24648</td><td>1140</td><td>0.013</td><td>6.0E-4</td></tr></tbody></table></div>"
      ]
     },
     "metadata": {
      "application/vnd.databricks.v1+output": {
       "addedWidgets": {},
       "aggData": [],
       "aggError": "",
       "aggOverflow": false,
       "aggSchema": [],
       "aggSeriesLimitReached": false,
       "aggType": "",
       "arguments": {},
       "columnCustomDisplayInfos": {},
       "data": [
        [
         "Maddock Films",
         44354159,
         528828,
         41274,
         0.0119,
         9.0E-4
        ],
        [
         "Star Studios",
         28826650,
         368652,
         10671,
         0.0128,
         4.0E-4
        ],
        [
         "LLOUD Official",
         8873632,
         1076147,
         62465,
         0.1213,
         0.007
        ],
        [
         "Netflix",
         3209534,
         96973,
         4114,
         0.0302,
         0.0013
        ],
        [
         "BATTLEGROUNDS MOBILE INDIA",
         2703403,
         87424,
         224,
         0.0323,
         1.0E-4
        ],
        [
         "Gamer Robot",
         2596063,
         146536,
         38484,
         0.0564,
         0.0148
        ],
        [
         "Sithara Entertainments",
         2563095,
         109253,
         3699,
         0.0426,
         0.0014
        ],
        [
         "Junglee Music Telugu",
         2097514,
         61869,
         839,
         0.0295,
         4.0E-4
        ],
        [
         "Techno Gamerz",
         1973669,
         107092,
         9332,
         0.0543,
         0.0047
        ],
        [
         "One Take Worldwide",
         1897822,
         24648,
         1140,
         0.013,
         6.0E-4
        ]
       ],
       "datasetInfos": [
        {
         "name": "_sqldf",
         "schema": {
          "fields": [
           {
            "metadata": {},
            "name": "channel_title",
            "nullable": true,
            "type": "string"
           },
           {
            "metadata": {},
            "name": "total_views",
            "nullable": true,
            "type": "long"
           },
           {
            "metadata": {},
            "name": "total_likes",
            "nullable": true,
            "type": "long"
           },
           {
            "metadata": {},
            "name": "total_comments",
            "nullable": true,
            "type": "long"
           },
           {
            "metadata": {},
            "name": "like_ratio",
            "nullable": true,
            "type": "double"
           },
           {
            "metadata": {},
            "name": "comment_ratio",
            "nullable": true,
            "type": "double"
           }
          ],
          "type": "struct"
         },
         "tableIdentifier": null,
         "typeStr": "pyspark.sql.connect.dataframe.DataFrame"
        }
       ],
       "dbfsResultPath": null,
       "isJsonSchema": true,
       "metadata": {
        "createTempViewForImplicitDf": true,
        "dataframeName": "_sqldf",
        "executionCount": 4
       },
       "overflow": false,
       "plotOptions": {
        "customPlotOptions": {},
        "displayType": "table",
        "pivotAggregation": null,
        "pivotColumns": null,
        "xColumns": null,
        "yColumns": null
       },
       "removedWidgets": [],
       "schema": [
        {
         "metadata": "{}",
         "name": "channel_title",
         "type": "\"string\""
        },
        {
         "metadata": "{}",
         "name": "total_views",
         "type": "\"long\""
        },
        {
         "metadata": "{}",
         "name": "total_likes",
         "type": "\"long\""
        },
        {
         "metadata": "{}",
         "name": "total_comments",
         "type": "\"long\""
        },
        {
         "metadata": "{}",
         "name": "like_ratio",
         "type": "\"double\""
        },
        {
         "metadata": "{}",
         "name": "comment_ratio",
         "type": "\"double\""
        }
       ],
       "type": "table"
      }
     },
     "output_type": "display_data"
    },
    {
     "output_type": "display_data",
     "data": {
      "text/plain": [
       "Databricks visualization. Run in Databricks to view."
      ]
     },
     "metadata": {
      "application/vnd.databricks.v1.subcommand+json": {
       "baseErrorDetails": null,
       "bindings": {},
       "collapsed": false,
       "command": "%sql WITH q AS (SELECT channel_title, total_views, total_likes, total_comments,like_ratio, comment_ratio\nFROM yt_trending_catalog.gld_sch_yt.gold_channel_stats\nORDER BY total_views DESC\nLIMIT 10) SELECT `like_ratio`,`comment_ratio`,`channel_title` FROM q",
       "commandTitle": "Visualization 1",
       "commandType": "auto",
       "commandVersion": 0,
       "commentThread": [],
       "commentsVisible": false,
       "contentSha256Hex": null,
       "customPlotOptions": {
        "redashChart": [
         {
          "key": "type",
          "value": "CHART"
         },
         {
          "key": "options",
          "value": {
           "alignYAxesAtZero": true,
           "coefficient": 1,
           "columnConfigurationMap": {
            "series": {
             "column": "channel_title",
             "id": "column_a544963e73"
            },
            "x": {
             "column": "like_ratio",
             "id": "column_a544963e71"
            },
            "y": [
             {
              "column": "comment_ratio",
              "id": "column_a544963e72"
             }
            ]
           },
           "dateTimeFormat": "DD/MM/YYYY HH:mm",
           "direction": {
            "type": "counterclockwise"
           },
           "error_y": {
            "type": "data",
            "visible": true
           },
           "globalSeriesType": "scatter",
           "legend": {
            "traceorder": "normal"
           },
           "missingValuesAsZero": true,
           "numberFormat": "0,0.[00000]",
           "percentFormat": "0[.]00%",
           "series": {
            "error_y": {
             "type": "data",
             "visible": true
            },
            "stacking": null
           },
           "seriesOptions": {
            "comment_ratio": {
             "type": "scatter",
             "yAxis": 0
            }
           },
           "showDataLabels": false,
           "sizemode": "diameter",
           "sortX": true,
           "sortY": true,
           "swappedAxes": false,
           "textFormat": "",
           "useAggregationsUi": true,
           "valuesOptions": {},
           "version": 2,
           "xAxis": {
            "labels": {
             "enabled": true
            },
            "type": "-"
           },
           "yAxis": [
            {
             "type": "-"
            },
            {
             "opposite": true,
             "type": "-"
            }
           ]
          }
         }
        ]
       },
       "datasetPreviewNameToCmdIdMap": {},
       "diffDeletes": [],
       "diffInserts": [],
       "displayType": "redashChart",
       "error": null,
       "errorDetails": null,
       "errorSummary": null,
       "errorTraceType": null,
       "finishTime": 0,
       "globalVars": {},
       "guid": "",
       "height": "auto",
       "hideCommandCode": false,
       "hideCommandResult": false,
       "iPythonMetadata": null,
       "inputWidgets": {},
       "isLockedInExamMode": false,
       "latestUser": "a user",
       "latestUserId": null,
       "listResultMetadata": null,
       "metadata": {},
       "nuid": "62d8c698-90a3-4b32-8782-df4db0a99bd4",
       "origId": 0,
       "parentHierarchy": [],
       "pivotAggregation": null,
       "pivotColumns": null,
       "position": 3.0,
       "resultDbfsErrorMessage": null,
       "resultDbfsStatus": "INLINED_IN_TREE",
       "results": null,
       "showCommandTitle": false,
       "startTime": 0,
       "state": "input",
       "streamStates": {},
       "subcommandOptions": {
        "queryPlan": {
         "selects": [
          {
           "column": "like_ratio",
           "type": "column"
          },
          {
           "column": "comment_ratio",
           "type": "column"
          },
          {
           "column": "channel_title",
           "type": "column"
          }
         ]
        }
       },
       "submitTime": 0,
       "subtype": "tableResultSubCmd.visualization",
       "tableResultIndex": 0,
       "tableResultSettingsMap": {},
       "useConsistentColors": false,
       "version": "CommandV1",
       "width": "auto",
       "workflows": [],
       "xColumns": null,
       "yColumns": null
      }
     },
     "output_type": "display_data"
    }
   ],
   "source": [
    "%sql\n",
    "SELECT channel_title, total_views, total_likes, total_comments,like_ratio, comment_ratio\n",
    "FROM yt_trending_catalog.gld_sch_yt.gold_channel_stats\n",
    "ORDER BY total_views DESC\n",
    "LIMIT 10;\n"
   ]
  },
  {
   "cell_type": "code",
   "execution_count": 0,
   "metadata": {
    "application/vnd.databricks.v1+cell": {
     "cellMetadata": {
      "byteLimit": 2048000,
      "implicitDf": true,
      "rowLimit": 10000
     },
     "inputWidgets": {},
     "nuid": "62d26aba-52e4-4392-94a5-670cfb04ea1a",
     "showTitle": false,
     "tableResultSettingsMap": {},
     "title": ""
    }
   },
   "outputs": [
    {
     "output_type": "display_data",
     "data": {
      "text/html": [
       "<style scoped>\n",
       "  .table-result-container {\n",
       "    max-height: 300px;\n",
       "    overflow: auto;\n",
       "  }\n",
       "  table, th, td {\n",
       "    border: 1px solid black;\n",
       "    border-collapse: collapse;\n",
       "  }\n",
       "  th, td {\n",
       "    padding: 5px;\n",
       "  }\n",
       "  th {\n",
       "    text-align: left;\n",
       "  }\n",
       "</style><div class='table-result-container'><table class='table-result'><thead style='background-color: white'><tr><th>category_name</th><th>total_views</th><th>total_likes</th><th>total_comments</th><th>like_ratio</th><th>comment_ratio</th></tr></thead><tbody><tr><td>Entertainment</td><td>79963092</td><td>1151502</td><td>63233</td><td>0.0144</td><td>8.0E-4</td></tr><tr><td>Music</td><td>22809386</td><td>1240885</td><td>67517</td><td>0.0544</td><td>0.003</td></tr><tr><td>Gaming</td><td>16736836</td><td>635252</td><td>61874</td><td>0.038</td><td>0.0037</td></tr><tr><td>People & Blogs</td><td>3348031</td><td>74997</td><td>1341</td><td>0.0224</td><td>4.0E-4</td></tr><tr><td>Film & Animation</td><td>2119324</td><td>94503</td><td>8017</td><td>0.0446</td><td>0.0038</td></tr><tr><td>News & Politics</td><td>1897822</td><td>24648</td><td>1140</td><td>0.013</td><td>6.0E-4</td></tr></tbody></table></div>"
      ]
     },
     "metadata": {
      "application/vnd.databricks.v1+output": {
       "addedWidgets": {},
       "aggData": [],
       "aggError": "",
       "aggOverflow": false,
       "aggSchema": [],
       "aggSeriesLimitReached": false,
       "aggType": "",
       "arguments": {},
       "columnCustomDisplayInfos": {},
       "data": [
        [
         "Entertainment",
         79963092,
         1151502,
         63233,
         0.0144,
         8.0E-4
        ],
        [
         "Music",
         22809386,
         1240885,
         67517,
         0.0544,
         0.003
        ],
        [
         "Gaming",
         16736836,
         635252,
         61874,
         0.038,
         0.0037
        ],
        [
         "People & Blogs",
         3348031,
         74997,
         1341,
         0.0224,
         4.0E-4
        ],
        [
         "Film & Animation",
         2119324,
         94503,
         8017,
         0.0446,
         0.0038
        ],
        [
         "News & Politics",
         1897822,
         24648,
         1140,
         0.013,
         6.0E-4
        ]
       ],
       "datasetInfos": [
        {
         "name": "_sqldf",
         "schema": {
          "fields": [
           {
            "metadata": {},
            "name": "category_name",
            "nullable": true,
            "type": "string"
           },
           {
            "metadata": {},
            "name": "total_views",
            "nullable": true,
            "type": "long"
           },
           {
            "metadata": {},
            "name": "total_likes",
            "nullable": true,
            "type": "long"
           },
           {
            "metadata": {},
            "name": "total_comments",
            "nullable": true,
            "type": "long"
           },
           {
            "metadata": {},
            "name": "like_ratio",
            "nullable": true,
            "type": "double"
           },
           {
            "metadata": {},
            "name": "comment_ratio",
            "nullable": true,
            "type": "double"
           }
          ],
          "type": "struct"
         },
         "tableIdentifier": null,
         "typeStr": "pyspark.sql.connect.dataframe.DataFrame"
        }
       ],
       "dbfsResultPath": null,
       "isJsonSchema": true,
       "metadata": {
        "createTempViewForImplicitDf": true,
        "dataframeName": "_sqldf",
        "executionCount": 5
       },
       "overflow": false,
       "plotOptions": {
        "customPlotOptions": {},
        "displayType": "table",
        "pivotAggregation": null,
        "pivotColumns": null,
        "xColumns": null,
        "yColumns": null
       },
       "removedWidgets": [],
       "schema": [
        {
         "metadata": "{}",
         "name": "category_name",
         "type": "\"string\""
        },
        {
         "metadata": "{}",
         "name": "total_views",
         "type": "\"long\""
        },
        {
         "metadata": "{}",
         "name": "total_likes",
         "type": "\"long\""
        },
        {
         "metadata": "{}",
         "name": "total_comments",
         "type": "\"long\""
        },
        {
         "metadata": "{}",
         "name": "like_ratio",
         "type": "\"double\""
        },
        {
         "metadata": "{}",
         "name": "comment_ratio",
         "type": "\"double\""
        }
       ],
       "type": "table"
      }
     },
     "output_type": "display_data"
    },
    {
     "output_type": "display_data",
     "data": {
      "text/plain": [
       "Databricks visualization. Run in Databricks to view."
      ]
     },
     "metadata": {
      "application/vnd.databricks.v1.subcommand+json": {
       "baseErrorDetails": null,
       "bindings": {},
       "collapsed": false,
       "command": "%sql\nSELECT category_name, total_views, total_likes, total_comments,like_ratio, comment_ratio\nFROM yt_trending_catalog.gld_sch_yt.gold_category_stats\nORDER BY total_views DESC;\n",
       "commandTitle": "Visualization 1",
       "commandType": "auto",
       "commandVersion": 0,
       "commentThread": [],
       "commentsVisible": false,
       "contentSha256Hex": null,
       "customPlotOptions": {
        "redashChart": [
         {
          "key": "type",
          "value": "FUNNEL"
         },
         {
          "key": "options",
          "value": {
           "autoSort": true,
           "itemsLimit": 100,
           "numberFormat": "0,0.[00]",
           "percentFormat": "0[.]00%",
           "percentValuesRange": {
            "max": 1000,
            "min": 0.01
           },
           "sortKeyCol": {
            "colName": "like_ratio",
            "reverse": true
           },
           "stepCol": {
            "colName": "category_name",
            "displayAs": "Category of Channel"
           },
           "valueCol": {
            "colName": "like_ratio",
            "displayAs": "engagement rate"
           }
          }
         }
        ]
       },
       "datasetPreviewNameToCmdIdMap": {},
       "diffDeletes": [],
       "diffInserts": [],
       "displayType": "redashChart",
       "error": null,
       "errorDetails": null,
       "errorSummary": null,
       "errorTraceType": null,
       "finishTime": 0,
       "globalVars": {},
       "guid": "",
       "height": "auto",
       "hideCommandCode": false,
       "hideCommandResult": false,
       "iPythonMetadata": null,
       "inputWidgets": {},
       "isLockedInExamMode": false,
       "latestUser": "a user",
       "latestUserId": null,
       "listResultMetadata": null,
       "metadata": {},
       "nuid": "1d331283-a606-4738-b456-a0e0c0dd76c4",
       "origId": 0,
       "parentHierarchy": [],
       "pivotAggregation": null,
       "pivotColumns": null,
       "position": 4.0,
       "resultDbfsErrorMessage": null,
       "resultDbfsStatus": "INLINED_IN_TREE",
       "results": null,
       "showCommandTitle": false,
       "startTime": 0,
       "state": "input",
       "streamStates": {},
       "subcommandOptions": {},
       "submitTime": 0,
       "subtype": "tableResultSubCmd.visualization",
       "tableResultIndex": 0,
       "tableResultSettingsMap": {},
       "useConsistentColors": false,
       "version": "CommandV1",
       "width": "auto",
       "workflows": [],
       "xColumns": null,
       "yColumns": null
      }
     },
     "output_type": "display_data"
    }
   ],
   "source": [
    "%sql\n",
    "SELECT category_name, total_views, total_likes, total_comments,like_ratio, comment_ratio\n",
    "FROM yt_trending_catalog.gld_sch_yt.gold_category_stats\n",
    "ORDER BY total_views DESC;\n"
   ]
  },
  {
   "cell_type": "code",
   "execution_count": 0,
   "metadata": {
    "application/vnd.databricks.v1+cell": {
     "cellMetadata": {
      "byteLimit": 2048000,
      "implicitDf": true,
      "rowLimit": 10000
     },
     "inputWidgets": {},
     "nuid": "98fd1082-ba07-428e-baa9-5a42eec55874",
     "showTitle": false,
     "tableResultSettingsMap": {},
     "title": ""
    }
   },
   "outputs": [
    {
     "output_type": "display_data",
     "data": {
      "text/html": [
       "<style scoped>\n",
       "  .table-result-container {\n",
       "    max-height: 300px;\n",
       "    overflow: auto;\n",
       "  }\n",
       "  table, th, td {\n",
       "    border: 1px solid black;\n",
       "    border-collapse: collapse;\n",
       "  }\n",
       "  th, td {\n",
       "    padding: 5px;\n",
       "  }\n",
       "  th {\n",
       "    text-align: left;\n",
       "  }\n",
       "</style><div class='table-result-container'><table class='table-result'><thead style='background-color: white'><tr><th>date</th><th>total_views</th></tr></thead><tbody><tr><td>2025-08-11</td><td>2563095</td></tr><tr><td>2025-08-12</td><td>69283859</td></tr><tr><td>2025-08-13</td><td>3747732</td></tr><tr><td>2025-08-14</td><td>29032256</td></tr><tr><td>2025-08-15</td><td>22247549</td></tr></tbody></table></div>"
      ]
     },
     "metadata": {
      "application/vnd.databricks.v1+output": {
       "addedWidgets": {},
       "aggData": [],
       "aggError": "",
       "aggOverflow": false,
       "aggSchema": [],
       "aggSeriesLimitReached": false,
       "aggType": "",
       "arguments": {},
       "columnCustomDisplayInfos": {},
       "data": [
        [
         "2025-08-11",
         2563095
        ],
        [
         "2025-08-12",
         69283859
        ],
        [
         "2025-08-13",
         3747732
        ],
        [
         "2025-08-14",
         29032256
        ],
        [
         "2025-08-15",
         22247549
        ]
       ],
       "datasetInfos": [
        {
         "name": "_sqldf",
         "schema": {
          "fields": [
           {
            "metadata": {},
            "name": "date",
            "nullable": true,
            "type": "date"
           },
           {
            "metadata": {},
            "name": "total_views",
            "nullable": true,
            "type": "long"
           }
          ],
          "type": "struct"
         },
         "tableIdentifier": null,
         "typeStr": "pyspark.sql.connect.dataframe.DataFrame"
        }
       ],
       "dbfsResultPath": null,
       "isJsonSchema": true,
       "metadata": {
        "createTempViewForImplicitDf": true,
        "dataframeName": "_sqldf",
        "executionCount": 10
       },
       "overflow": false,
       "plotOptions": {
        "customPlotOptions": {},
        "displayType": "table",
        "pivotAggregation": null,
        "pivotColumns": null,
        "xColumns": null,
        "yColumns": null
       },
       "removedWidgets": [],
       "schema": [
        {
         "metadata": "{}",
         "name": "date",
         "type": "\"date\""
        },
        {
         "metadata": "{}",
         "name": "total_views",
         "type": "\"long\""
        }
       ],
       "type": "table"
      }
     },
     "output_type": "display_data"
    },
    {
     "output_type": "display_data",
     "data": {
      "text/plain": [
       "Databricks visualization. Run in Databricks to view."
      ]
     },
     "metadata": {
      "application/vnd.databricks.v1.subcommand+json": {
       "baseErrorDetails": null,
       "bindings": {},
       "collapsed": false,
       "command": "%sql WITH q AS (SELECT date, SUM(daily_views) AS total_views\nFROM yt_trending_catalog.gld_sch_yt.gold_trends_daily\nGROUP BY date\nORDER BY date) SELECT `date`,SUM(`total_views`) `column_a544963e75` FROM q GROUP BY `date`",
       "commandTitle": "Visualization 1",
       "commandType": "auto",
       "commandVersion": 0,
       "commentThread": [],
       "commentsVisible": false,
       "contentSha256Hex": null,
       "customPlotOptions": {
        "redashChart": [
         {
          "key": "type",
          "value": "CHART"
         },
         {
          "key": "options",
          "value": {
           "alignYAxesAtZero": true,
           "coefficient": 1,
           "columnConfigurationMap": {
            "x": {
             "column": "date",
             "id": "column_a544963e74"
            },
            "y": [
             {
              "column": "total_views",
              "id": "column_a544963e75",
              "transform": "SUM"
             }
            ]
           },
           "dateTimeFormat": "DD/MM/YYYY HH:mm",
           "direction": {
            "type": "counterclockwise"
           },
           "error_y": {
            "type": "data",
            "visible": true
           },
           "globalSeriesType": "line",
           "isAggregationOn": true,
           "legend": {
            "traceorder": "normal"
           },
           "missingValuesAsZero": true,
           "numberFormat": "0,0.[00000]",
           "percentFormat": "0[.]00%",
           "series": {
            "error_y": {
             "type": "data",
             "visible": true
            },
            "stacking": null
           },
           "seriesOptions": {
            "column_a544963e75": {
             "color": "#00A972",
             "name": "total_views",
             "yAxis": 0
            }
           },
           "showDataLabels": false,
           "sizemode": "diameter",
           "sortX": true,
           "sortY": true,
           "swappedAxes": false,
           "textFormat": "",
           "useAggregationsUi": true,
           "valuesOptions": {},
           "version": 2,
           "xAxis": {
            "labels": {
             "enabled": true
            },
            "type": "-"
           },
           "yAxis": [
            {
             "type": "-"
            },
            {
             "opposite": true,
             "type": "-"
            }
           ]
          }
         }
        ]
       },
       "datasetPreviewNameToCmdIdMap": {},
       "diffDeletes": [],
       "diffInserts": [],
       "displayType": "redashChart",
       "error": null,
       "errorDetails": null,
       "errorSummary": null,
       "errorTraceType": null,
       "finishTime": 0,
       "globalVars": {},
       "guid": "",
       "height": "auto",
       "hideCommandCode": false,
       "hideCommandResult": false,
       "iPythonMetadata": null,
       "inputWidgets": {},
       "isLockedInExamMode": false,
       "latestUser": "a user",
       "latestUserId": null,
       "listResultMetadata": null,
       "metadata": {},
       "nuid": "779af648-910d-47f5-b60c-46b556e79d35",
       "origId": 0,
       "parentHierarchy": [],
       "pivotAggregation": null,
       "pivotColumns": null,
       "position": 5.0,
       "resultDbfsErrorMessage": null,
       "resultDbfsStatus": "INLINED_IN_TREE",
       "results": null,
       "showCommandTitle": false,
       "startTime": 0,
       "state": "input",
       "streamStates": {},
       "subcommandOptions": {
        "queryPlan": {
         "groups": [
          {
           "column": "date",
           "type": "column"
          }
         ],
         "selects": [
          {
           "column": "date",
           "type": "column"
          },
          {
           "alias": "column_a544963e75",
           "args": [
            {
             "column": "total_views",
             "type": "column"
            }
           ],
           "function": "SUM",
           "type": "function"
          }
         ]
        }
       },
       "submitTime": 0,
       "subtype": "tableResultSubCmd.visualization",
       "tableResultIndex": 0,
       "tableResultSettingsMap": {},
       "useConsistentColors": false,
       "version": "CommandV1",
       "width": "auto",
       "workflows": [],
       "xColumns": null,
       "yColumns": null
      }
     },
     "output_type": "display_data"
    }
   ],
   "source": [
    "%sql\n",
    "SELECT date, SUM(daily_views) AS total_views\n",
    "FROM yt_trending_catalog.gld_sch_yt.gold_trends_daily\n",
    "GROUP BY date\n",
    "ORDER BY date;\n"
   ]
  },
  {
   "cell_type": "code",
   "execution_count": 0,
   "metadata": {
    "application/vnd.databricks.v1+cell": {
     "cellMetadata": {
      "byteLimit": 2048000,
      "implicitDf": true,
      "rowLimit": 10000
     },
     "inputWidgets": {},
     "nuid": "38052657-291e-4fd2-baee-28302345fad0",
     "showTitle": false,
     "tableResultSettingsMap": {},
     "title": ""
    }
   },
   "outputs": [
    {
     "output_type": "display_data",
     "data": {
      "text/html": [
       "<style scoped>\n",
       "  .table-result-container {\n",
       "    max-height: 300px;\n",
       "    overflow: auto;\n",
       "  }\n",
       "  table, th, td {\n",
       "    border: 1px solid black;\n",
       "    border-collapse: collapse;\n",
       "  }\n",
       "  th, td {\n",
       "    padding: 5px;\n",
       "  }\n",
       "  th {\n",
       "    text-align: left;\n",
       "  }\n",
       "</style><div class='table-result-container'><table class='table-result'><thead style='background-color: white'><tr><th>category_name</th><th>rank_in_category</th><th>title</th><th>channel_title</th><th>views</th></tr></thead><tbody><tr><td>Entertainment</td><td>1</td><td>Param Sundari - Official Trailer | Sidharth M | Janhvi K | Dinesh V | Tushar J | In Cinemas 29th Aug</td><td>Maddock Films</td><td>40457209</td></tr><tr><td>Entertainment</td><td>2</td><td>Teaser | Akshay Kumar | Arshad Warsi | Subhash Kapoor | Jolly LLB 3 | In Cinemas 19th September</td><td>Star Studios</td><td>28826650</td></tr><tr><td>Entertainment</td><td>3</td><td>Thama Teaser Announcement | Ayushmann, Rashmika, Paresh, Nawazuddin| Dinesh | In Cinemas This Diwali</td><td>Maddock Films</td><td>3896950</td></tr><tr><td>Entertainment</td><td>4</td><td>Wednesday: Season 2 | Part 2 Official Trailer | Netflix</td><td>Netflix</td><td>3209534</td></tr><tr><td>Entertainment</td><td>5</td><td>Mass Jathara - TEASER | Ravi Teja, Sreeleela | Bheems | S Naga Vamsi | Bhanu Bogavarapu</td><td>Sithara Entertainments</td><td>2563095</td></tr><tr><td>Entertainment</td><td>6</td><td>WAR 2 MOVIE REVIEW | Hrithik Roshan | Jr NTR | @RJRaunac</td><td>Screenwala</td><td>533345</td></tr><tr><td>Entertainment</td><td>7</td><td>Finding Shahrukh Khan Meme in Akinator \uD83D\uDE02 |Gone Wrong</td><td>LitFleet</td><td>219648</td></tr><tr><td>Entertainment</td><td>8</td><td>Border 2 – Official Trailer | Sunny Deol, Varun Dhawan, Diljit Dosanjh | Upcoming Movie January 2026</td><td>RawVision Studios • 17M views • 11 hours ago .....</td><td>78002</td></tr><tr><td>Entertainment</td><td>9</td><td>അടുത്ത നാഷണൽ അവാർഡ് Loading! Param Sundari Trailer Reaction | Mallu Analyst</td><td>The Mallu Analyst</td><td>77800</td></tr><tr><td>Entertainment</td><td>10</td><td>Baaghi 4 Teaser | Tiger, Sanjay, Harnaaz, Sonam | Sajid Nadiadwala | A.Harsha | In Cinemas 5th Sept</td><td>iltyn</td><td>65487</td></tr><tr><td>Film & Animation</td><td>1</td><td>Mirai - Teaser (Hindi) | Teja Sajja | Manchu Manoj | Ritika Nayak | Karthik Gattamneni | Sep 5</td><td>Dharma Productions</td><td>895389</td></tr><tr><td>Film & Animation</td><td>2</td><td>Raktabeej 2 l Official Teaser | Nandita Roy | Shiboprosad Mukherjee | Windows</td><td>WINDOWS</td><td>424112</td></tr><tr><td>Film & Animation</td><td>3</td><td>Raghu Dakat | Official Teaser | Dev, Idhika, Anirban, Sohini | Dhrubo Banerjee | SVF | This Puja</td><td>Dev Entertainment Ventures</td><td>350590</td></tr><tr><td>Film & Animation</td><td>4</td><td>21 WONDERS OFFICIAL TRAILER | SUPRITH KAATI | ARYA SWAROOP | KRUTHIKA | SHRIYAKarthik| PNG STUDIOS |</td><td>PNG Studios Kannada</td><td>257450</td></tr><tr><td>Film & Animation</td><td>5</td><td>Border 2 : Trailer | Sunny Deol | Varun Dhawan | Diljit Dosanjh ,Border 2 Teaser ,New Movie Trailer</td><td>STAR CINE Trailer • 5.2M views 2 hours ago\n",
       "\n",
       "\n",
       "\n",
       "...\n",
       "</td><td>106247</td></tr><tr><td>Film & Animation</td><td>6</td><td>BORDER 2 Official Trailer | Sunny Deol, Varun Dhawan, Diljit Dosanjh | Republic Day 2026</td><td>Movie Cruzzer</td><td>45713</td></tr><tr><td>Film & Animation</td><td>7</td><td>Raghu Dakat Teaser | Megastar Dev | Idhika Paul | Sohini Sarkar | Dhrubo Banerjee | Movie Cruzzer</td><td>Movie Cruzzer</td><td>39823</td></tr><tr><td>Gaming</td><td>1</td><td>LIGHTNING UPDATE TRAILER + Week 1 Showcase | Blox Fruits</td><td>Gamer Robot</td><td>2596063</td></tr><tr><td>Gaming</td><td>2</td><td>ZOMBIE BORDER PATROL | QUARANTINE ZONE : THE LAST CHECK</td><td>Techno Gamerz</td><td>1973669</td></tr><tr><td>Gaming</td><td>3</td><td>OG vs NG: Legacies Clash | Day 1</td><td>BATTLEGROUNDS MOBILE INDIA</td><td>1572806</td></tr><tr><td>Gaming</td><td>4</td><td>100 Days But You Can Make SUPER OP STICKS In Hardcore Minecraft \uD83D\uDE30</td><td>Anshu Bisht</td><td>1374106</td></tr><tr><td>Gaming</td><td>5</td><td>OG vs NG: Legacies Clash – Final Day | 79th Independence Day Special</td><td>BATTLEGROUNDS MOBILE INDIA</td><td>1130597</td></tr><tr><td>Gaming</td><td>6</td><td>Free Fire RANK PUSH to GrandMaster Now! ❤️‍\uD83D\uDD25 Sooneeta #freefire #freefirelive #live #verticallive</td><td>Sooneeta</td><td>1113777</td></tr><tr><td>Gaming</td><td>7</td><td>MADARA KI ENTRY HO GAYI</td><td>SATVIK</td><td>782469</td></tr><tr><td>Gaming</td><td>8</td><td>My Collection vs Yours – Free Fire Drip Battle!\uD83E\uDD2F Collection vs Collection\uD83D\uDE31 #shortsfeed #shortslive</td><td>CHACHA GAMING</td><td>766905</td></tr><tr><td>Gaming</td><td>9</td><td>From Poor to Diamond Immortal in Minecraft..</td><td>Karry Kraft</td><td>715490</td></tr><tr><td>Gaming</td><td>10</td><td>Live Horror Game Granny #shortslive #granny #shorts</td><td>ANZU SENPAI</td><td>640204</td></tr><tr><td>Music</td><td>1</td><td>LISA - DREAM feat. Kentaro Sakaguchi (Official Short Film MV)</td><td>LLOUD Official</td><td>8873632</td></tr><tr><td>Music</td><td>2</td><td>Kishkindhapuri - Teaser | Bellamkonda Sreenivas | Anupama | Koushik Pegallapati | Chaitan Bharadwaj</td><td>Junglee Music Telugu</td><td>2097514</td></tr><tr><td>Music</td><td>3</td><td>15th August Song | I Love My India, Jalwa Tera Jalwa, Aye Watan|Patriotic Songs For Independence day</td><td>Tips Official</td><td>1852436</td></tr><tr><td>Music</td><td>4</td><td>Har Karam Apna Karenge | Dil Diya Hai Jaan Bhi Denge | Hindi Desh Bhakti Song | Karma (1986)</td><td>Bollywood Melodies</td><td>1437592</td></tr><tr><td>Music</td><td>5</td><td>\uD83C\uDDEE\uD83C\uDDF3 Best 10 Desh Bhakti Songs | Top 10 देशभक्ति गीत - नॉनस्टॉप देश भक्ति गाने | 15 अगस्त Special Song</td><td>Bhajan India</td><td>1289229</td></tr><tr><td>Music</td><td>6</td><td>Mera Mulk Mera Desh | Diljale | Kumar Sanu, Aditya Narayan | Javed Akhtar |Ajay Devgn, Sonali Bendre</td><td>T-Series Bollywood Classics</td><td>1044638</td></tr><tr><td>Music</td><td>7</td><td>Jalwa Jalwa - Aye Watan Aye Watan| Independence Day Desh Bhakti Song | Hindustan Ki Kasam |15 August</td><td>Bollywood Junction</td><td>800601</td></tr><tr><td>Music</td><td>8</td><td>Teri Mitti | Kesari | Akshay Kumar & Parineeti Chopra | Arko | B Praak | Manoj Muntashir | Lyrical</td><td>Zee Music Company</td><td>770347</td></tr><tr><td>Music</td><td>9</td><td>TOP 15 आज बाळ कृष्ण जन्मला | Aaj Bal Krushna Janmala | Shri Krishna Gavalani | Marathi Gavalan</td><td>Sumeet Music</td><td>532384</td></tr><tr><td>Music</td><td>10</td><td>कृष्ण जन्माष्टमी भजन : Non Stop Krishna Bhajan | Krishna Bhajans | Krishna Janmashtami Songs</td><td>Bhajan India</td><td>519864</td></tr><tr><td>News & Politics</td><td>1</td><td>2 Duni 4 (Official Video) | R Nait | Gurlez Akhtar | Latest Punjabi Song 2025</td><td>One Take Worldwide</td><td>1897822</td></tr><tr><td>People & Blogs</td><td>1</td><td>Halagali - First Look Teaser | Blood of the Rebellion | Dhananjaya | Sukesh Nayak | Duhara Movies</td><td>DUHARA MOVIES</td><td>1392204</td></tr><tr><td>People & Blogs</td><td>2</td><td>الرجل العنكبوت انقاذ باتمان Spider-Man Rescue batman vs iron man vs venom funny Game GTA 5 superhero</td><td>spider moto </td><td>823808</td></tr><tr><td>People & Blogs</td><td>3</td><td>A.R. Rahman - Maa Tujhe Salaam (Lyrics) Vande Mataram</td><td>seventyskye</td><td>775169</td></tr><tr><td>People & Blogs</td><td>4</td><td>Scary Teacher 3D vs Squid Game Throwing Put in Key Lock Dalgona Candy Shapes Challenge Who's Boss</td><td>Scary Teacher Horror</td><td>260931</td></tr><tr><td>People & Blogs</td><td>5</td><td>Franklin & Shinchan Celebrate Independence Day in GTA 5</td><td>Hunter GTA </td><td>95919</td></tr></tbody></table></div>"
      ]
     },
     "metadata": {
      "application/vnd.databricks.v1+output": {
       "addedWidgets": {},
       "aggData": [],
       "aggError": "",
       "aggOverflow": false,
       "aggSchema": [],
       "aggSeriesLimitReached": false,
       "aggType": "",
       "arguments": {},
       "columnCustomDisplayInfos": {},
       "data": [
        [
         "Entertainment",
         1,
         "Param Sundari - Official Trailer | Sidharth M | Janhvi K | Dinesh V | Tushar J | In Cinemas 29th Aug",
         "Maddock Films",
         40457209
        ],
        [
         "Entertainment",
         2,
         "Teaser | Akshay Kumar | Arshad Warsi | Subhash Kapoor | Jolly LLB 3 | In Cinemas 19th September",
         "Star Studios",
         28826650
        ],
        [
         "Entertainment",
         3,
         "Thama Teaser Announcement | Ayushmann, Rashmika, Paresh, Nawazuddin| Dinesh | In Cinemas This Diwali",
         "Maddock Films",
         3896950
        ],
        [
         "Entertainment",
         4,
         "Wednesday: Season 2 | Part 2 Official Trailer | Netflix",
         "Netflix",
         3209534
        ],
        [
         "Entertainment",
         5,
         "Mass Jathara - TEASER | Ravi Teja, Sreeleela | Bheems | S Naga Vamsi | Bhanu Bogavarapu",
         "Sithara Entertainments",
         2563095
        ],
        [
         "Entertainment",
         6,
         "WAR 2 MOVIE REVIEW | Hrithik Roshan | Jr NTR | @RJRaunac",
         "Screenwala",
         533345
        ],
        [
         "Entertainment",
         7,
         "Finding Shahrukh Khan Meme in Akinator \uD83D\uDE02 |Gone Wrong",
         "LitFleet",
         219648
        ],
        [
         "Entertainment",
         8,
         "Border 2 – Official Trailer | Sunny Deol, Varun Dhawan, Diljit Dosanjh | Upcoming Movie January 2026",
         "RawVision Studios • 17M views • 11 hours ago .....",
         78002
        ],
        [
         "Entertainment",
         9,
         "അടുത്ത നാഷണൽ അവാർഡ് Loading! Param Sundari Trailer Reaction | Mallu Analyst",
         "The Mallu Analyst",
         77800
        ],
        [
         "Entertainment",
         10,
         "Baaghi 4 Teaser | Tiger, Sanjay, Harnaaz, Sonam | Sajid Nadiadwala | A.Harsha | In Cinemas 5th Sept",
         "iltyn",
         65487
        ],
        [
         "Film & Animation",
         1,
         "Mirai - Teaser (Hindi) | Teja Sajja | Manchu Manoj | Ritika Nayak | Karthik Gattamneni | Sep 5",
         "Dharma Productions",
         895389
        ],
        [
         "Film & Animation",
         2,
         "Raktabeej 2 l Official Teaser | Nandita Roy | Shiboprosad Mukherjee | Windows",
         "WINDOWS",
         424112
        ],
        [
         "Film & Animation",
         3,
         "Raghu Dakat | Official Teaser | Dev, Idhika, Anirban, Sohini | Dhrubo Banerjee | SVF | This Puja",
         "Dev Entertainment Ventures",
         350590
        ],
        [
         "Film & Animation",
         4,
         "21 WONDERS OFFICIAL TRAILER | SUPRITH KAATI | ARYA SWAROOP | KRUTHIKA | SHRIYAKarthik| PNG STUDIOS |",
         "PNG Studios Kannada",
         257450
        ],
        [
         "Film & Animation",
         5,
         "Border 2 : Trailer | Sunny Deol | Varun Dhawan | Diljit Dosanjh ,Border 2 Teaser ,New Movie Trailer",
         "STAR CINE Trailer • 5.2M views 2 hours ago\n\n\n\n...\n",
         106247
        ],
        [
         "Film & Animation",
         6,
         "BORDER 2 Official Trailer | Sunny Deol, Varun Dhawan, Diljit Dosanjh | Republic Day 2026",
         "Movie Cruzzer",
         45713
        ],
        [
         "Film & Animation",
         7,
         "Raghu Dakat Teaser | Megastar Dev | Idhika Paul | Sohini Sarkar | Dhrubo Banerjee | Movie Cruzzer",
         "Movie Cruzzer",
         39823
        ],
        [
         "Gaming",
         1,
         "LIGHTNING UPDATE TRAILER + Week 1 Showcase | Blox Fruits",
         "Gamer Robot",
         2596063
        ],
        [
         "Gaming",
         2,
         "ZOMBIE BORDER PATROL | QUARANTINE ZONE : THE LAST CHECK",
         "Techno Gamerz",
         1973669
        ],
        [
         "Gaming",
         3,
         "OG vs NG: Legacies Clash | Day 1",
         "BATTLEGROUNDS MOBILE INDIA",
         1572806
        ],
        [
         "Gaming",
         4,
         "100 Days But You Can Make SUPER OP STICKS In Hardcore Minecraft \uD83D\uDE30",
         "Anshu Bisht",
         1374106
        ],
        [
         "Gaming",
         5,
         "OG vs NG: Legacies Clash – Final Day | 79th Independence Day Special",
         "BATTLEGROUNDS MOBILE INDIA",
         1130597
        ],
        [
         "Gaming",
         6,
         "Free Fire RANK PUSH to GrandMaster Now! ❤️‍\uD83D\uDD25 Sooneeta #freefire #freefirelive #live #verticallive",
         "Sooneeta",
         1113777
        ],
        [
         "Gaming",
         7,
         "MADARA KI ENTRY HO GAYI",
         "SATVIK",
         782469
        ],
        [
         "Gaming",
         8,
         "My Collection vs Yours – Free Fire Drip Battle!\uD83E\uDD2F Collection vs Collection\uD83D\uDE31 #shortsfeed #shortslive",
         "CHACHA GAMING",
         766905
        ],
        [
         "Gaming",
         9,
         "From Poor to Diamond Immortal in Minecraft..",
         "Karry Kraft",
         715490
        ],
        [
         "Gaming",
         10,
         "Live Horror Game Granny #shortslive #granny #shorts",
         "ANZU SENPAI",
         640204
        ],
        [
         "Music",
         1,
         "LISA - DREAM feat. Kentaro Sakaguchi (Official Short Film MV)",
         "LLOUD Official",
         8873632
        ],
        [
         "Music",
         2,
         "Kishkindhapuri - Teaser | Bellamkonda Sreenivas | Anupama | Koushik Pegallapati | Chaitan Bharadwaj",
         "Junglee Music Telugu",
         2097514
        ],
        [
         "Music",
         3,
         "15th August Song | I Love My India, Jalwa Tera Jalwa, Aye Watan|Patriotic Songs For Independence day",
         "Tips Official",
         1852436
        ],
        [
         "Music",
         4,
         "Har Karam Apna Karenge | Dil Diya Hai Jaan Bhi Denge | Hindi Desh Bhakti Song | Karma (1986)",
         "Bollywood Melodies",
         1437592
        ],
        [
         "Music",
         5,
         "\uD83C\uDDEE\uD83C\uDDF3 Best 10 Desh Bhakti Songs | Top 10 देशभक्ति गीत - नॉनस्टॉप देश भक्ति गाने | 15 अगस्त Special Song",
         "Bhajan India",
         1289229
        ],
        [
         "Music",
         6,
         "Mera Mulk Mera Desh | Diljale | Kumar Sanu, Aditya Narayan | Javed Akhtar |Ajay Devgn, Sonali Bendre",
         "T-Series Bollywood Classics",
         1044638
        ],
        [
         "Music",
         7,
         "Jalwa Jalwa - Aye Watan Aye Watan| Independence Day Desh Bhakti Song | Hindustan Ki Kasam |15 August",
         "Bollywood Junction",
         800601
        ],
        [
         "Music",
         8,
         "Teri Mitti | Kesari | Akshay Kumar & Parineeti Chopra | Arko | B Praak | Manoj Muntashir | Lyrical",
         "Zee Music Company",
         770347
        ],
        [
         "Music",
         9,
         "TOP 15 आज बाळ कृष्ण जन्मला | Aaj Bal Krushna Janmala | Shri Krishna Gavalani | Marathi Gavalan",
         "Sumeet Music",
         532384
        ],
        [
         "Music",
         10,
         "कृष्ण जन्माष्टमी भजन : Non Stop Krishna Bhajan | Krishna Bhajans | Krishna Janmashtami Songs",
         "Bhajan India",
         519864
        ],
        [
         "News & Politics",
         1,
         "2 Duni 4 (Official Video) | R Nait | Gurlez Akhtar | Latest Punjabi Song 2025",
         "One Take Worldwide",
         1897822
        ],
        [
         "People & Blogs",
         1,
         "Halagali - First Look Teaser | Blood of the Rebellion | Dhananjaya | Sukesh Nayak | Duhara Movies",
         "DUHARA MOVIES",
         1392204
        ],
        [
         "People & Blogs",
         2,
         "الرجل العنكبوت انقاذ باتمان Spider-Man Rescue batman vs iron man vs venom funny Game GTA 5 superhero",
         "spider moto ",
         823808
        ],
        [
         "People & Blogs",
         3,
         "A.R. Rahman - Maa Tujhe Salaam (Lyrics) Vande Mataram",
         "seventyskye",
         775169
        ],
        [
         "People & Blogs",
         4,
         "Scary Teacher 3D vs Squid Game Throwing Put in Key Lock Dalgona Candy Shapes Challenge Who's Boss",
         "Scary Teacher Horror",
         260931
        ],
        [
         "People & Blogs",
         5,
         "Franklin & Shinchan Celebrate Independence Day in GTA 5",
         "Hunter GTA ",
         95919
        ]
       ],
       "datasetInfos": [
        {
         "name": "_sqldf",
         "schema": {
          "fields": [
           {
            "metadata": {},
            "name": "category_name",
            "nullable": true,
            "type": "string"
           },
           {
            "metadata": {},
            "name": "rank_in_category",
            "nullable": true,
            "type": "integer"
           },
           {
            "metadata": {},
            "name": "title",
            "nullable": true,
            "type": "string"
           },
           {
            "metadata": {},
            "name": "channel_title",
            "nullable": true,
            "type": "string"
           },
           {
            "metadata": {},
            "name": "views",
            "nullable": true,
            "type": "integer"
           }
          ],
          "type": "struct"
         },
         "tableIdentifier": null,
         "typeStr": "pyspark.sql.connect.dataframe.DataFrame"
        }
       ],
       "dbfsResultPath": null,
       "isJsonSchema": true,
       "metadata": {
        "createTempViewForImplicitDf": true,
        "dataframeName": "_sqldf",
        "executionCount": 6
       },
       "overflow": false,
       "plotOptions": {
        "customPlotOptions": {},
        "displayType": "table",
        "pivotAggregation": null,
        "pivotColumns": null,
        "xColumns": null,
        "yColumns": null
       },
       "removedWidgets": [],
       "schema": [
        {
         "metadata": "{}",
         "name": "category_name",
         "type": "\"string\""
        },
        {
         "metadata": "{}",
         "name": "rank_in_category",
         "type": "\"integer\""
        },
        {
         "metadata": "{}",
         "name": "title",
         "type": "\"string\""
        },
        {
         "metadata": "{}",
         "name": "channel_title",
         "type": "\"string\""
        },
        {
         "metadata": "{}",
         "name": "views",
         "type": "\"integer\""
        }
       ],
       "type": "table"
      }
     },
     "output_type": "display_data"
    },
    {
     "output_type": "display_data",
     "data": {
      "text/plain": [
       "Databricks visualization. Run in Databricks to view."
      ]
     },
     "metadata": {
      "application/vnd.databricks.v1.subcommand+json": {
       "baseErrorDetails": null,
       "bindings": {},
       "collapsed": false,
       "command": "%sql WITH q AS (SELECT category_name, rank_in_category, title, channel_title, views\nFROM yt_trending_catalog.gld_sch_yt.gold_top10_videos_per_category\nORDER BY category_name, rank_in_category) SELECT `channel_title`,SUM(`rank_in_category`) `column_a544963e84`,`category_name` FROM q GROUP BY `category_name`,`channel_title`",
       "commandTitle": "Visualization 1",
       "commandType": "auto",
       "commandVersion": 0,
       "commentThread": [],
       "commentsVisible": false,
       "contentSha256Hex": null,
       "customPlotOptions": {
        "redashChart": [
         {
          "key": "type",
          "value": "CHART"
         },
         {
          "key": "options",
          "value": {
           "alignYAxesAtZero": true,
           "coefficient": 1,
           "columnConfigurationMap": {
            "series": {
             "column": "category_name",
             "id": "column_a544963e86"
            },
            "x": {
             "column": "channel_title",
             "id": "column_a544963e89"
            },
            "y": [
             {
              "column": "rank_in_category",
              "id": "column_a544963e84",
              "transform": "SUM"
             }
            ]
           },
           "dateTimeFormat": "DD/MM/YYYY HH:mm",
           "direction": {
            "type": "counterclockwise"
           },
           "error_y": {
            "type": "data",
            "visible": true
           },
           "globalSeriesType": "pie",
           "isAggregationOn": true,
           "legend": {
            "traceorder": "normal"
           },
           "missingValuesAsZero": true,
           "numBins": 10,
           "numberFormat": "0,0.[00000]",
           "percentFormat": "0[.]00%",
           "series": {
            "error_y": {
             "type": "data",
             "visible": true
            },
            "stacking": null
           },
           "seriesOptions": {
            "column_a544963e80": {
             "type": "pie",
             "yAxis": 0
            },
            "column_a544963e84": {
             "type": "pie",
             "yAxis": 0
            }
           },
           "showDataLabels": true,
           "sizemode": "diameter",
           "sortX": true,
           "sortY": true,
           "swappedAxes": false,
           "textFormat": "",
           "useAggregationsUi": true,
           "valuesOptions": {},
           "version": 2,
           "xAxis": {
            "labels": {
             "enabled": true
            },
            "type": "-"
           },
           "yAxis": [
            {
             "type": "-"
            },
            {
             "opposite": true,
             "type": "-"
            }
           ]
          }
         }
        ]
       },
       "datasetPreviewNameToCmdIdMap": {},
       "diffDeletes": [],
       "diffInserts": [],
       "displayType": "redashChart",
       "error": null,
       "errorDetails": null,
       "errorSummary": null,
       "errorTraceType": null,
       "finishTime": 0,
       "globalVars": {},
       "guid": "",
       "height": "auto",
       "hideCommandCode": false,
       "hideCommandResult": false,
       "iPythonMetadata": null,
       "inputWidgets": {},
       "isLockedInExamMode": false,
       "latestUser": "a user",
       "latestUserId": null,
       "listResultMetadata": null,
       "metadata": {},
       "nuid": "bc00a143-be7f-4a64-a188-ab6eb08c7b0e",
       "origId": 0,
       "parentHierarchy": [],
       "pivotAggregation": null,
       "pivotColumns": null,
       "position": 6.0,
       "resultDbfsErrorMessage": null,
       "resultDbfsStatus": "INLINED_IN_TREE",
       "results": null,
       "showCommandTitle": false,
       "startTime": 0,
       "state": "input",
       "streamStates": {},
       "subcommandOptions": {
        "queryPlan": {
         "groups": [
          {
           "column": "channel_title",
           "type": "column"
          },
          {
           "column": "category_name",
           "type": "column"
          }
         ],
         "selects": [
          {
           "column": "channel_title",
           "type": "column"
          },
          {
           "alias": "column_a544963e84",
           "args": [
            {
             "column": "rank_in_category",
             "type": "column"
            }
           ],
           "function": "SUM",
           "type": "function"
          },
          {
           "column": "category_name",
           "type": "column"
          }
         ]
        }
       },
       "submitTime": 0,
       "subtype": "tableResultSubCmd.visualization",
       "tableResultIndex": 0,
       "tableResultSettingsMap": {},
       "useConsistentColors": false,
       "version": "CommandV1",
       "width": "auto",
       "workflows": [],
       "xColumns": null,
       "yColumns": null
      }
     },
     "output_type": "display_data"
    }
   ],
   "source": [
    "%sql\n",
    "SELECT category_name, rank_in_category, title, channel_title, views\n",
    "FROM yt_trending_catalog.gld_sch_yt.gold_top10_videos_per_category\n",
    "ORDER BY category_name, rank_in_category;\n"
   ]
  },
  {
   "cell_type": "code",
   "execution_count": 0,
   "metadata": {
    "application/vnd.databricks.v1+cell": {
     "cellMetadata": {
      "byteLimit": 2048000,
      "implicitDf": true,
      "rowLimit": 10000
     },
     "inputWidgets": {},
     "nuid": "76232cef-bcdf-4701-971c-5bade488221a",
     "showTitle": false,
     "tableResultSettingsMap": {},
     "title": ""
    }
   },
   "outputs": [
    {
     "output_type": "display_data",
     "data": {
      "text/html": [
       "<style scoped>\n",
       "  .table-result-container {\n",
       "    max-height: 300px;\n",
       "    overflow: auto;\n",
       "  }\n",
       "  table, th, td {\n",
       "    border: 1px solid black;\n",
       "    border-collapse: collapse;\n",
       "  }\n",
       "  th, td {\n",
       "    padding: 5px;\n",
       "  }\n",
       "  th {\n",
       "    text-align: left;\n",
       "  }\n",
       "</style><div class='table-result-container'><table class='table-result'><thead style='background-color: white'><tr><th>channel_title</th><th>total_views</th><th>total_likes</th><th>total_comments</th><th>like_rate</th><th>comment_rate</th></tr></thead><tbody><tr><td>LLOUD Official</td><td>8873632</td><td>1076147</td><td>62465</td><td>0.12127469338372382</td><td>0.0070393949174362876</td></tr><tr><td>LitFleet</td><td>219648</td><td>22749</td><td>1236</td><td>0.10357025786713286</td><td>0.005627185314685315</td></tr><tr><td>Dev Entertainment Ventures</td><td>350590</td><td>25719</td><td>2606</td><td>0.07335919450069882</td><td>0.007433184061154055</td></tr><tr><td>spider moto </td><td>823808</td><td>53409</td><td>559</td><td>0.06483185402423866</td><td>6.785561684275948E-4</td></tr><tr><td>LoLzZz Gaming</td><td>1233931</td><td>76632</td><td>150</td><td>0.062103958811311165</td><td>1.2156271298800338E-4</td></tr><tr><td>BLACK MAMBA GAMING</td><td>126453</td><td>7635</td><td>558</td><td>0.060378164219116986</td><td>0.004412706697350004</td></tr><tr><td>Dattrax Gaming</td><td>538230</td><td>30783</td><td>3066</td><td>0.057193021570703974</td><td>0.005696449473273507</td></tr><tr><td>Gamer Robot</td><td>2596063</td><td>146536</td><td>38484</td><td>0.05644547146968313</td><td>0.01482398539634824</td></tr><tr><td>Techno Gamerz</td><td>1973669</td><td>107092</td><td>9332</td><td>0.05426036483321165</td><td>0.004728249772378246</td></tr><tr><td>Anshu Bisht</td><td>1374106</td><td>68150</td><td>4187</td><td>0.04959588270482772</td><td>0.003047072059942974</td></tr><tr><td>Dharma Productions</td><td>895389</td><td>39066</td><td>1008</td><td>0.04363019871809906</td><td>0.0011257676830963971</td></tr><tr><td>Aashish Yadav Bhojpuri</td><td>443140</td><td>19046</td><td>552</td><td>0.04297964525883468</td><td>0.0012456560003610596</td></tr><tr><td>WINDOWS</td><td>424112</td><td>18199</td><td>4233</td><td>0.04291083487380692</td><td>0.00998085411400762</td></tr><tr><td>Sithara Entertainments</td><td>2563095</td><td>109253</td><td>3699</td><td>0.04262541965865487</td><td>0.0014431770964400462</td></tr><tr><td>Screenwala</td><td>533345</td><td>21150</td><td>1844</td><td>0.03965538253850697</td><td>0.0034574243688419316</td></tr><tr><td>GMJ - Global Music Junction - Bhojpuri</td><td>169529</td><td>6251</td><td>260</td><td>0.036872747435542</td><td>0.0015336609075733356</td></tr><tr><td>The Mallu Analyst</td><td>77800</td><td>2627</td><td>308</td><td>0.033766066838046276</td><td>0.003958868894601542</td></tr><tr><td>BATTLEGROUNDS MOBILE INDIA</td><td>2703403</td><td>87424</td><td>224</td><td>0.03233850077106521</td><td>8.285853052615537E-5</td></tr><tr><td>PNG Studios Kannada</td><td>257450</td><td>8179</td><td>76</td><td>0.031769275587492714</td><td>2.952029520295203E-4</td></tr><tr><td>SATVIK</td><td>782469</td><td>24367</td><td>3369</td><td>0.03114116980992218</td><td>0.004305601883269497</td></tr></tbody></table></div>"
      ]
     },
     "metadata": {
      "application/vnd.databricks.v1+output": {
       "addedWidgets": {},
       "aggData": [],
       "aggError": "",
       "aggOverflow": false,
       "aggSchema": [],
       "aggSeriesLimitReached": false,
       "aggType": "",
       "arguments": {},
       "columnCustomDisplayInfos": {},
       "data": [
        [
         "LLOUD Official",
         8873632,
         1076147,
         62465,
         0.12127469338372382,
         0.0070393949174362876
        ],
        [
         "LitFleet",
         219648,
         22749,
         1236,
         0.10357025786713286,
         0.005627185314685315
        ],
        [
         "Dev Entertainment Ventures",
         350590,
         25719,
         2606,
         0.07335919450069882,
         0.007433184061154055
        ],
        [
         "spider moto ",
         823808,
         53409,
         559,
         0.06483185402423866,
         6.785561684275948E-4
        ],
        [
         "LoLzZz Gaming",
         1233931,
         76632,
         150,
         0.062103958811311165,
         1.2156271298800338E-4
        ],
        [
         "BLACK MAMBA GAMING",
         126453,
         7635,
         558,
         0.060378164219116986,
         0.004412706697350004
        ],
        [
         "Dattrax Gaming",
         538230,
         30783,
         3066,
         0.057193021570703974,
         0.005696449473273507
        ],
        [
         "Gamer Robot",
         2596063,
         146536,
         38484,
         0.05644547146968313,
         0.01482398539634824
        ],
        [
         "Techno Gamerz",
         1973669,
         107092,
         9332,
         0.05426036483321165,
         0.004728249772378246
        ],
        [
         "Anshu Bisht",
         1374106,
         68150,
         4187,
         0.04959588270482772,
         0.003047072059942974
        ],
        [
         "Dharma Productions",
         895389,
         39066,
         1008,
         0.04363019871809906,
         0.0011257676830963971
        ],
        [
         "Aashish Yadav Bhojpuri",
         443140,
         19046,
         552,
         0.04297964525883468,
         0.0012456560003610596
        ],
        [
         "WINDOWS",
         424112,
         18199,
         4233,
         0.04291083487380692,
         0.00998085411400762
        ],
        [
         "Sithara Entertainments",
         2563095,
         109253,
         3699,
         0.04262541965865487,
         0.0014431770964400462
        ],
        [
         "Screenwala",
         533345,
         21150,
         1844,
         0.03965538253850697,
         0.0034574243688419316
        ],
        [
         "GMJ - Global Music Junction - Bhojpuri",
         169529,
         6251,
         260,
         0.036872747435542,
         0.0015336609075733356
        ],
        [
         "The Mallu Analyst",
         77800,
         2627,
         308,
         0.033766066838046276,
         0.003958868894601542
        ],
        [
         "BATTLEGROUNDS MOBILE INDIA",
         2703403,
         87424,
         224,
         0.03233850077106521,
         8.285853052615537E-5
        ],
        [
         "PNG Studios Kannada",
         257450,
         8179,
         76,
         0.031769275587492714,
         2.952029520295203E-4
        ],
        [
         "SATVIK",
         782469,
         24367,
         3369,
         0.03114116980992218,
         0.004305601883269497
        ]
       ],
       "datasetInfos": [
        {
         "name": "_sqldf",
         "schema": {
          "fields": [
           {
            "metadata": {},
            "name": "channel_title",
            "nullable": true,
            "type": "string"
           },
           {
            "metadata": {},
            "name": "total_views",
            "nullable": true,
            "type": "long"
           },
           {
            "metadata": {},
            "name": "total_likes",
            "nullable": true,
            "type": "long"
           },
           {
            "metadata": {},
            "name": "total_comments",
            "nullable": true,
            "type": "long"
           },
           {
            "metadata": {},
            "name": "like_rate",
            "nullable": true,
            "type": "double"
           },
           {
            "metadata": {},
            "name": "comment_rate",
            "nullable": true,
            "type": "double"
           }
          ],
          "type": "struct"
         },
         "tableIdentifier": null,
         "typeStr": "pyspark.sql.connect.dataframe.DataFrame"
        }
       ],
       "dbfsResultPath": null,
       "isJsonSchema": true,
       "metadata": {
        "createTempViewForImplicitDf": true,
        "dataframeName": "_sqldf",
        "executionCount": 7
       },
       "overflow": false,
       "plotOptions": {
        "customPlotOptions": {},
        "displayType": "table",
        "pivotAggregation": null,
        "pivotColumns": null,
        "xColumns": null,
        "yColumns": null
       },
       "removedWidgets": [],
       "schema": [
        {
         "metadata": "{}",
         "name": "channel_title",
         "type": "\"string\""
        },
        {
         "metadata": "{}",
         "name": "total_views",
         "type": "\"long\""
        },
        {
         "metadata": "{}",
         "name": "total_likes",
         "type": "\"long\""
        },
        {
         "metadata": "{}",
         "name": "total_comments",
         "type": "\"long\""
        },
        {
         "metadata": "{}",
         "name": "like_rate",
         "type": "\"double\""
        },
        {
         "metadata": "{}",
         "name": "comment_rate",
         "type": "\"double\""
        }
       ],
       "type": "table"
      }
     },
     "output_type": "display_data"
    },
    {
     "output_type": "display_data",
     "data": {
      "text/plain": [
       "Databricks visualization. Run in Databricks to view."
      ]
     },
     "metadata": {
      "application/vnd.databricks.v1.subcommand+json": {
       "baseErrorDetails": null,
       "bindings": {},
       "collapsed": false,
       "command": "%sql WITH q AS (SELECT channel_title, total_views, total_likes, total_comments, like_rate, comment_rate\nFROM yt_trending_catalog.gld_sch_yt.gold_engagement_leaders\nORDER BY like_rate DESC, total_views DESC\nLIMIT 20) SELECT `channel_title`,SUM(`like_rate`) `column_a544963e92` FROM q GROUP BY `channel_title`",
       "commandTitle": "Visualization 1",
       "commandType": "auto",
       "commandVersion": 0,
       "commentThread": [],
       "commentsVisible": false,
       "contentSha256Hex": null,
       "customPlotOptions": {
        "redashChart": [
         {
          "key": "type",
          "value": "CHART"
         },
         {
          "key": "options",
          "value": {
           "alignYAxesAtZero": true,
           "coefficient": 1,
           "columnConfigurationMap": {
            "x": {
             "column": "channel_title",
             "id": "column_a544963e90"
            },
            "y": [
             {
              "column": "like_rate",
              "id": "column_a544963e92",
              "transform": "SUM"
             }
            ]
           },
           "dateTimeFormat": "DD/MM/YYYY HH:mm",
           "direction": {
            "type": "counterclockwise"
           },
           "error_y": {
            "type": "data",
            "visible": true
           },
           "globalSeriesType": "area",
           "isAggregationOn": true,
           "legend": {
            "traceorder": "normal"
           },
           "missingValuesAsZero": true,
           "numberFormat": "0,0.[00000]",
           "percentFormat": "0[.]00%",
           "series": {
            "error_y": {
             "type": "data",
             "visible": true
            },
            "stacking": null
           },
           "seriesOptions": {
            "column_a544963e92": {
             "type": "area",
             "yAxis": 0
            }
           },
           "showDataLabels": false,
           "sizemode": "diameter",
           "sortX": true,
           "sortY": true,
           "swappedAxes": false,
           "textFormat": "",
           "useAggregationsUi": true,
           "valuesOptions": {},
           "version": 2,
           "xAxis": {
            "labels": {
             "enabled": true
            },
            "type": "-"
           },
           "yAxis": [
            {
             "type": "-"
            },
            {
             "opposite": true,
             "type": "-"
            }
           ]
          }
         }
        ]
       },
       "datasetPreviewNameToCmdIdMap": {},
       "diffDeletes": [],
       "diffInserts": [],
       "displayType": "redashChart",
       "error": null,
       "errorDetails": null,
       "errorSummary": null,
       "errorTraceType": null,
       "finishTime": 0,
       "globalVars": {},
       "guid": "",
       "height": "auto",
       "hideCommandCode": false,
       "hideCommandResult": false,
       "iPythonMetadata": null,
       "inputWidgets": {},
       "isLockedInExamMode": false,
       "latestUser": "a user",
       "latestUserId": null,
       "listResultMetadata": null,
       "metadata": {},
       "nuid": "144ee405-0834-4aad-8907-090147c2b858",
       "origId": 0,
       "parentHierarchy": [],
       "pivotAggregation": null,
       "pivotColumns": null,
       "position": 7.0,
       "resultDbfsErrorMessage": null,
       "resultDbfsStatus": "INLINED_IN_TREE",
       "results": null,
       "showCommandTitle": false,
       "startTime": 0,
       "state": "input",
       "streamStates": {},
       "subcommandOptions": {
        "queryPlan": {
         "groups": [
          {
           "column": "channel_title",
           "type": "column"
          }
         ],
         "selects": [
          {
           "column": "channel_title",
           "type": "column"
          },
          {
           "alias": "column_a544963e92",
           "args": [
            {
             "column": "like_rate",
             "type": "column"
            }
           ],
           "function": "SUM",
           "type": "function"
          }
         ]
        }
       },
       "submitTime": 0,
       "subtype": "tableResultSubCmd.visualization",
       "tableResultIndex": 0,
       "tableResultSettingsMap": {},
       "useConsistentColors": false,
       "version": "CommandV1",
       "width": "auto",
       "workflows": [],
       "xColumns": null,
       "yColumns": null
      }
     },
     "output_type": "display_data"
    }
   ],
   "source": [
    "%sql\n",
    "SELECT channel_title, total_views, total_likes, total_comments, like_rate, comment_rate\n",
    "FROM yt_trending_catalog.gld_sch_yt.gold_engagement_leaders\n",
    "ORDER BY like_rate DESC, total_views DESC\n",
    "LIMIT 20;\n"
   ]
  }
 ],
 "metadata": {
  "application/vnd.databricks.v1+notebook": {
   "computePreferences": null,
   "dashboards": [],
   "environmentMetadata": {
    "base_environment": "",
    "environment_version": "2"
   },
   "inputWidgetPreferences": null,
   "language": "python",
   "notebookMetadata": {
    "mostRecentlyExecutedCommandWithImplicitDF": {
     "commandId": 8661267506973310,
     "dataframes": [
      "_sqldf"
     ]
    },
    "pythonIndentUnit": 4
   },
   "notebookName": "yt_visualization",
   "widgets": {}
  },
  "language_info": {
   "name": "python"
  }
 },
 "nbformat": 4,
 "nbformat_minor": 0
}